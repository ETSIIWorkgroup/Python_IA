{
 "cells": [
  {
   "cell_type": "markdown",
   "metadata": {},
   "source": [
    "# Ejercicio 1 - Inteligencia Artificial\n",
    "\n",
    "### Grado Ingeniería Informática Tecnologías Informáticas - Curso 2020-21\n",
    "\n",
    "### Problema del viajante - Resolución por fuerza bruta\n",
    "\n",
    "José Luis Ruiz Reina - 6 de octubre 2020"
   ]
  },
  {
   "cell_type": "markdown",
   "metadata": {},
   "source": [
    "El objetivo de este ejercicio preliminar es constatar la dificultad de resolver el problema del viajante por fuerza bruta cuando aumenta el número de ciudades."
   ]
  },
  {
   "cell_type": "code",
   "execution_count": 3,
   "metadata": {},
   "outputs": [],
   "source": [
    "# Librerias\n",
    "import random, time, math\n",
    "from itertools import permutations"
   ]
  },
  {
   "cell_type": "markdown",
   "metadata": {},
   "source": [
    "Se pide definir una clase Viajante_n, que sirva para definir un problema del viajante generado aleatoriamente con n ciudades. El constructor de la clase recibe un valor $n$ que indicará el número de ciudades y un parámetro $escala$. Las coordenadas $x$ e $y$ de cada ciudad se tomaran aleatoriamente en el rango $[-escala,+escala]$.\n",
    "\n",
    "En concreto, un objeto de esta clase debe tener:\n",
    "\n",
    "* Un atributo `ciudades` con la lista de las ciudades (los números de $1$ a $n$).\n",
    "\n",
    "* Un atributo `coordenadas` que contiene un diccionario cuyas claves son las ciudades (números de $1$ a $n$) y el valor asociado a cada clave es un par $(x,y)$ de coordenadas generado aleatoriamente. \n",
    "\n",
    "* Un método `distancia_circuito` que recibe un lista de ciudades representando un circuito (es decir, un viaje en el que desde cada ciudad se va a la siguiente en la lista, y desde la última a la primera), y devuelve la distancia total recorrida en ese circuito.  \n",
    "\n"
   ]
  },
  {
   "cell_type": "code",
   "execution_count": 4,
   "metadata": {},
   "outputs": [],
   "source": [
    "# Clase Viajante_n()\n",
    "class Viajante_n():\n",
    "    \n",
    "    def __init__(self, n, escala):\n",
    "        self.ciudades = list(range(1, n+1))\n",
    "        self.coordenadas = {ciudad : (random.uniform(-escala, escala), random.uniform(-escala, escala)) for ciudad in self.ciudades}\n",
    "    \n",
    "    def distancia(self, c1, c2):\n",
    "        coordenadas1 = self.coordenadas[c1]\n",
    "        coordenadas2 = self.coordenadas[c2]\n",
    "        return math.sqrt(((coordenadas1[0] - coordenadas2[0]) **2) + ((coordenadas1[1] - coordenadas2[1]) **2))\n",
    "            \n",
    "    def distanciaCircuito(self, listaCiudades): \n",
    "        return sum(self.distancia(listaCiudades[ciudad], listaCiudades[ciudad+1]) for ciudad in range (len(listaCiudades) - 1)) + self.distancia(listaCiudades[-1],listaCiudades[0])"
   ]
  },
  {
   "cell_type": "code",
   "execution_count": 5,
   "metadata": {},
   "outputs": [
    {
     "name": "stdout",
     "output_type": "stream",
     "text": [
      "Ciudades pv5: [1, 2, 3, 4, 5]\n",
      "Coordenadas pv5: {1: (-0.752860619545408, 0.11410601593208325), 2: (-1.0739619375152636, -1.2822951872144945), 3: (-0.08121837347417715, -1.009880913903516), 4: (1.9218110855887236, 1.7269858366802424), 5: (-0.31687344604900236, -2.64638852597617)}\n",
      "Distancia recorrida circuito [3, 1, 4, 5, 2]: 11.935313043001194\n",
      "\n",
      "\n",
      "Ciudades pv7: [1, 2, 3, 4, 5, 6, 7]\n",
      "Coordenadas pv7: {1: (-5.441998226654564, -2.649871478267758), 2: (4.463487205605086, 4.114969238198194), 3: (-0.028259862109237588, 5.658859161305374), 4: (-4.985517059541367, 4.745864985312842), 5: (1.149648917541648, 5.071151827855866), 6: (4.859788516969415, -2.7475873111185196), 7: (2.7418566567083413, -5.206741453302234)}\n",
      "Distancia recorrida circuito [6, 1, 7, 2, 4, 3, 5]: 52.836998895302315\n",
      "\n",
      "\n"
     ]
    }
   ],
   "source": [
    "# Algunos ejemplos:\n",
    "pv5 = Viajante_n(5,3)\n",
    "print(\"Ciudades pv5: {}\".format(pv5.ciudades))\n",
    "print(\"Coordenadas pv5: {}\".format(pv5.coordenadas))      \n",
    "circuito5=[3,1,4,5,2]\n",
    "print(\"Distancia recorrida circuito {}: {}\".format(circuito5, pv5.distanciaCircuito(circuito5)))\n",
    "print(\"\\n\")\n",
    "\n",
    "# ------------------------------------------\n",
    "\n",
    "pv7 = Viajante_n(7,6)\n",
    "print(\"Ciudades pv7: {}\".format(pv7.ciudades))\n",
    "print(\"Coordenadas pv7: {}\".format(pv7.coordenadas))      \n",
    "circuito7=[6,1,7,2,4,3,5]\n",
    "print(\"Distancia recorrida circuito {}: {}\".format(circuito7, pv7.distanciaCircuito(circuito7)))\n",
    "print(\"\\n\")"
   ]
  },
  {
   "cell_type": "markdown",
   "metadata": {},
   "source": [
    "Piensa ahora en un método \"sencillo\" para resolver el problema del viajante y trata de implementarlo mediante una función `optimización_viajante(pv)`. La función debe devolver el mejor circuito y la distancia del mismo. \n",
    "\n",
    "Aplícalo para resolver distintas instancias de problemas del viajante (generadas como objetos de la clase anterior) y ve aumentando el número de ciudades para ver cómo se comporta tu método. Saca tus propias conclusiones.  \n",
    "\n",
    "Nota: para definir la función puede ser útil usar la función `permutations` del módulo `itertools` que se ha importado más arriba. "
   ]
  },
  {
   "cell_type": "code",
   "execution_count": 6,
   "metadata": {},
   "outputs": [],
   "source": [
    "# Optimización del problema del viajante: \n",
    "def optimizacionViajante(pv):\n",
    "    tiempoInicio = time.time()\n",
    "    posiblesRutas = permutations(pv.ciudades)\n",
    "    minimaDistancia = float(\"inf\")\n",
    "    for ruta in posiblesRutas:\n",
    "        distanciaActual = pv.distanciaCircuito(ruta)\n",
    "        if distanciaActual < minimaDistancia:\n",
    "            minimaDistancia = distanciaActual\n",
    "            minimaRuta = ruta\n",
    "    tiempoTotal = time.time() - tiempoInicio\n",
    "    print(\"Tiempo empleado: \" + str(tiempoTotal) + \" segundos.\")\n",
    "    return minimaRuta, minimaDistancia"
   ]
  },
  {
   "cell_type": "code",
   "execution_count": 8,
   "metadata": {},
   "outputs": [
    {
     "name": "stdout",
     "output_type": "stream",
     "text": [
      "Tiempo empleado: 0.0009915828704833984 segundos.\n",
      "Tiempo empleado: 0.045632123947143555 segundos.\n"
     ]
    },
    {
     "data": {
      "text/plain": [
       "((1, 7, 6, 2, 5, 3, 4), 35.90929201129333)"
      ]
     },
     "execution_count": 8,
     "metadata": {},
     "output_type": "execute_result"
    }
   ],
   "source": [
    "# Algunos ejemplos:\n",
    "optimizacionViajante(pv5)\n",
    "optimizacionViajante(pv7)"
   ]
  },
  {
   "cell_type": "code",
   "execution_count": 9,
   "metadata": {},
   "outputs": [
    {
     "ename": "AttributeError",
     "evalue": "'tuple' object has no attribute 'ciudades'",
     "output_type": "error",
     "traceback": [
      "\u001b[1;31m---------------------------------------------------------------------------\u001b[0m",
      "\u001b[1;31mAttributeError\u001b[0m                            Traceback (most recent call last)",
      "\u001b[1;32m<ipython-input-9-b6c2990ec66e>\u001b[0m in \u001b[0;36m<module>\u001b[1;34m\u001b[0m\n\u001b[0;32m      1\u001b[0m \u001b[0mpv8\u001b[0m \u001b[1;33m=\u001b[0m \u001b[1;33m(\u001b[0m\u001b[1;36m8\u001b[0m\u001b[1;33m,\u001b[0m \u001b[1;36m40\u001b[0m\u001b[1;33m)\u001b[0m\u001b[1;33m\u001b[0m\u001b[1;33m\u001b[0m\u001b[0m\n\u001b[1;32m----> 2\u001b[1;33m \u001b[0mprint\u001b[0m\u001b[1;33m(\u001b[0m\u001b[1;34m\"Ciudades pv8: {}\"\u001b[0m\u001b[1;33m.\u001b[0m\u001b[0mformat\u001b[0m\u001b[1;33m(\u001b[0m\u001b[0mpv8\u001b[0m\u001b[1;33m.\u001b[0m\u001b[0mciudades\u001b[0m\u001b[1;33m)\u001b[0m\u001b[1;33m)\u001b[0m\u001b[1;33m\u001b[0m\u001b[1;33m\u001b[0m\u001b[0m\n\u001b[0m\u001b[0;32m      3\u001b[0m \u001b[0mprint\u001b[0m\u001b[1;33m(\u001b[0m\u001b[1;34m\"Coordenadas pv8: {}\"\u001b[0m\u001b[1;33m.\u001b[0m\u001b[0mformat\u001b[0m\u001b[1;33m(\u001b[0m\u001b[0mpv8\u001b[0m\u001b[1;33m.\u001b[0m\u001b[0mcoordenadas\u001b[0m\u001b[1;33m)\u001b[0m\u001b[1;33m)\u001b[0m\u001b[1;33m\u001b[0m\u001b[1;33m\u001b[0m\u001b[0m\n\u001b[0;32m      4\u001b[0m \u001b[0mcircuito8\u001b[0m\u001b[1;33m=\u001b[0m\u001b[1;33m[\u001b[0m\u001b[1;36m3\u001b[0m\u001b[1;33m,\u001b[0m\u001b[1;36m1\u001b[0m\u001b[1;33m,\u001b[0m\u001b[1;36m4\u001b[0m\u001b[1;33m,\u001b[0m\u001b[1;36m5\u001b[0m\u001b[1;33m,\u001b[0m\u001b[1;36m2\u001b[0m\u001b[1;33m,\u001b[0m\u001b[1;36m6\u001b[0m\u001b[1;33m,\u001b[0m\u001b[1;36m7\u001b[0m\u001b[1;33m,\u001b[0m\u001b[1;36m8\u001b[0m\u001b[1;33m]\u001b[0m\u001b[1;33m\u001b[0m\u001b[1;33m\u001b[0m\u001b[0m\n\u001b[0;32m      5\u001b[0m \u001b[0mprint\u001b[0m\u001b[1;33m(\u001b[0m\u001b[1;34m\"Distancia recorrida circuito {}: {}\"\u001b[0m\u001b[1;33m.\u001b[0m\u001b[0mformat\u001b[0m\u001b[1;33m(\u001b[0m\u001b[0mcircuito8\u001b[0m\u001b[1;33m,\u001b[0m \u001b[0mpv8\u001b[0m\u001b[1;33m.\u001b[0m\u001b[0mdistanciaCircuito\u001b[0m\u001b[1;33m(\u001b[0m\u001b[0mcircuito8\u001b[0m\u001b[1;33m)\u001b[0m\u001b[1;33m)\u001b[0m\u001b[1;33m)\u001b[0m\u001b[1;33m\u001b[0m\u001b[1;33m\u001b[0m\u001b[0m\n",
      "\u001b[1;31mAttributeError\u001b[0m: 'tuple' object has no attribute 'ciudades'"
     ]
    }
   ],
   "source": [
    "pv8 = (8, 40)\n",
    "print(\"Ciudades pv8: {}\".format(pv8.ciudades))\n",
    "print(\"Coordenadas pv8: {}\".format(pv8.coordenadas))      \n",
    "circuito8=[3,1,4,5,2,6,7,8]\n",
    "print(\"Distancia recorrida circuito {}: {}\".format(circuito8, pv8.distanciaCircuito(circuito8)))\n",
    "print(\"\\n\")\n",
    "optimizacionViajante(pv8)\n",
    "\n",
    "pv9 = (9, 40)\n",
    "print(\"Ciudades pv9: {}\".format(pv9.ciudades))\n",
    "print(\"Coordenadas pv9: {}\".format(pv9.coordenadas))      \n",
    "circuito9=[6,1,7,2,4,3,5,9,8]\n",
    "print(\"Distancia recorrida circuito {}: {}\".format(circuito9, pv9.distanciaCircuito(circuito9)))\n",
    "print(\"\\n\")\n",
    "optimizacionViajante(pv9)"
   ]
  },
  {
   "cell_type": "code",
   "execution_count": null,
   "metadata": {},
   "outputs": [],
   "source": []
  }
 ],
 "metadata": {
  "kernelspec": {
   "display_name": "Python 3",
   "language": "python",
   "name": "python3"
  },
  "language_info": {
   "codemirror_mode": {
    "name": "ipython",
    "version": 3
   },
   "file_extension": ".py",
   "mimetype": "text/x-python",
   "name": "python",
   "nbconvert_exporter": "python",
   "pygments_lexer": "ipython3",
   "version": "3.7.3"
  }
 },
 "nbformat": 4,
 "nbformat_minor": 2
}
