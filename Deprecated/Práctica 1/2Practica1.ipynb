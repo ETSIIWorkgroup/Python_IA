{
 "cells": [
  {
   "cell_type": "markdown",
   "metadata": {},
   "source": [
    "# Práctica 1 - Inteligencia Artificial\n",
    "### Grado Ingeniería Informática Tecnologías Informáticas - Curso 2020-21\n",
    "\n",
    "### Técnicas metaheurísticas para optimización\n",
    "### Búsqueda local (enfriamiento simulado)"
   ]
  },
  {
   "cell_type": "markdown",
   "metadata": {},
   "source": [
    "En esta práctica se verá la implementación en Python del algoritmo de enfriamiento simulado y su uso para intentar resolver distintos casos concretos del problema del viajante.\n",
    "\n",
    "La práctica se estructura en tres partes. \n",
    "\n",
    "* En la primera parte, vamos a implementar la representación del problema del viajante para problemas de búsqueda local. \n",
    "* En la segunda implementaremos el algoritmo de enfriamiento simulado.\n",
    "* En la tercera parte, lo aplicaremos para resolver distintos problemas del viajante.\n",
    "\n",
    "Necesitaremos estos dos módulos de la biblioteca estándar (consultar en https://www.python.org/ lo que proporcionan estos dos módulos; algunos de los métodos serán muy útiles en esta práctica) "
   ]
  },
  {
   "cell_type": "code",
   "execution_count": 31,
   "metadata": {},
   "outputs": [],
   "source": [
    "import random\n",
    "import math"
   ]
  },
  {
   "cell_type": "markdown",
   "metadata": {},
   "source": [
    "En la teoría hemos visto que cualquier problema de optimización que quisieramos resolver mediante búsqueda local lo íbamos a representar (una vez hayamos decidido una representación para los estados) mediante definición de las siguientes funciones:\n",
    "\n",
    "* Una función para generar un estado inicial \n",
    "* Una función para generar un sucesor a partir de un estado dado. \n",
    "* Una función de valoración (la función a optimizar)\n",
    "\n",
    "La siguiente clase Problema_Busqueda_Local va a proporcionar un patrón general para representar problemas de optimización a resolver mediante búsqueda local. Los problemas concretos serán subclases de esta clase, obtenidos definiendo sus métodos de manera concreta.\n",
    "\n",
    "Nótese que además de los tres métodos anteriormente mencionados, incluimos un atributo \"mejor\" para definir si se trata de un problema de minimización o de maximización. En concreto, \"mejor\" contendrá la función \"menor que\" si se trata de minimizar, o la función \"mayor que\" si se trata de maximizar (por defecto, el problema será de minimización)   "
   ]
  },
  {
   "cell_type": "code",
   "execution_count": 32,
   "metadata": {},
   "outputs": [],
   "source": [
    "class Problema_Busqueda_Local(object):\n",
    "    \"\"\"Clase abstracta para un problema de búsqueda local. Los problemas\n",
    "    concretos habría que definirlos como subclases de esta clase,\n",
    "    implementando genera_estado_inicial, genera_sucesor y valoración. Como\n",
    "    atributo de dato, tendremos \"mejor\", que va a almacenar la función \"menor\n",
    "    que\", o \"mayor que\" dependiendo de que se trate, respectivamente, de\n",
    "    minimizar o maximizar.\"\"\"     \n",
    "\n",
    "\n",
    "    def __init__(self,mejor=lambda x,y: x < y ):\n",
    "        self.mejor=mejor\n",
    "\n",
    "    def genera_estado_inicial(self):\n",
    "        \"\"\"Genera, posiblemente con cierta componente aleatoria y heurística,\n",
    "           un estado para empezar la búsqueda .\"\"\"\n",
    "        abstract\n",
    "        \n",
    "    def genera_sucesor(self, estado):\n",
    "        \"\"\" Devuelve un estado \"sucesor\" del que recibe como\n",
    "            entrada. Usualmente, esta función tendrá cierta componente\n",
    "            aleatoria y heurística.\"\"\"\n",
    "        abstract\n",
    "\n",
    "    def valoracion(self, estado):\n",
    "        \"\"\"Devuelve la valoración de un estado. Es el valor a optimizar.\"\"\"  \n",
    "        abstract"
   ]
  },
  {
   "cell_type": "markdown",
   "metadata": {},
   "source": [
    "## Parte I: Problema del viajante como problema de búsqueda local\n"
   ]
  },
  {
   "cell_type": "markdown",
   "metadata": {},
   "source": [
    "### Ejercicio 1\n",
    "\n",
    "Implementar la clase Viajante_BL de problemas del viajante para ser resueltos mediante búsqueda local. La clase debe ser subclase de Problema_Busqueda_Local y contener además dos atributos de datos adicionales: uno con la lista de las ciudades y otro con una función distancia que se va a usar para calcular la distancia entre cualesquiera dos ciudades (estos dos datos se reciben como argumento por el constructor de la clase). \n",
    "\n",
    "Tanto el método genera_estado_inicial como el método genera_sucesor se han de definir como se ha explicado en clase. Es decir:\n",
    "* genera_estado_inicial construye, aleatoriamente, una permutación de las ciudades\n",
    "* genera_sucesor construye un circuito a partir de uno dado, invirtiendo el subcircuito entre dos ciudades elegidas aleatoriamente.    \n",
    "\n",
    "Nota: para este ejercicio, pueden ser útiles las funciones random.shuffle y random.sample (consultar en la documentación del módulo random en https://www.python.org/"
   ]
  },
  {
   "cell_type": "code",
   "execution_count": 33,
   "metadata": {},
   "outputs": [],
   "source": [
    "# Clase ViajanteBusquedaLocal\n",
    "class Viajante_BL(Problema_Busqueda_Local):\n",
    "    \n",
    "    def __init__(self, ciudades_coords):\n",
    "        super().__init__()\n",
    "        self.ciudades_coords = ciudades_coords\n",
    "        self.num_ciudades = len(ciudades_coords)\n",
    "        \n",
    "    def genera_estado_inicial(self):\n",
    "        ciudades = list(self.ciudades_coords.keys())\n",
    "        random.shuffle(ciudades)\n",
    "        \n",
    "        return ciudades\n",
    "    \n",
    "    def genera_sucesor(self, estado):\n",
    "        fst = random.randint(0, self.num_ciudades - 1)\n",
    "        snd = (fst + random.randint(1, self.num_ciudades - 3)) % self.num_ciudades\n",
    "        \n",
    "        if fst < snd:\n",
    "            sucesor = estado[:]\n",
    "            sucesor[fst:snd+1] = sucesor[fst:snd+1][::-1]\n",
    "        else:\n",
    "            sucesor = estado[fst:][::-1] + estado[snd+1:fst] + estado[:snd+1][::-1]\n",
    "        \n",
    "        return sucesor\n",
    "    \n",
    "    def valoracion(self, estado):\n",
    "        num_ciudades = len(estado)\n",
    "        \n",
    "        return sum([distancia_euc2D(estado[i], estado[(i+1) % num_ciudades], self.ciudades_coords) for i in range(num_ciudades)])"
   ]
  },
  {
   "cell_type": "markdown",
   "metadata": {},
   "source": [
    "### Ejercicio 2\n",
    "\n",
    "La función distancia_euc2D calcula la distancias entre dos ciudades a partir de sus coordenadas "
   ]
  },
  {
   "cell_type": "code",
   "execution_count": 34,
   "metadata": {},
   "outputs": [],
   "source": [
    "def distancia_euc2D(c1,c2,coords):\n",
    "    \"\"\" Función que recibe dos ciudades y devuelve la distancia entre ellas,\n",
    "    calculada mediante distancia euclidea en el plano. El tercer argumento de\n",
    "    la función contiene las coordenadas de todas las ciudades del problema (en\n",
    "    foma de lista o de diccionario)\"\"\" \n",
    "    coord_c1= coords[c1]\n",
    "    coord_c2= coords[c2]\n",
    "    return math.hypot(coord_c1[0]-coord_c2[0],coord_c1[1]-coord_c2[1])"
   ]
  },
  {
   "cell_type": "markdown",
   "metadata": {},
   "source": [
    "El siguiente diccionario relaciona el nombre de las capitales andaluzas con us coordenadas: "
   ]
  },
  {
   "cell_type": "code",
   "execution_count": 35,
   "metadata": {},
   "outputs": [],
   "source": [
    "andalucia={\"almeria\": (409.5, 93),\n",
    "           \"cadiz\":(63, 57),\n",
    "           \"cordoba\": (198, 207),\n",
    "           \"granada\": (309, 127.5),\n",
    "           \"huelva\":  (3, 139.5),\n",
    "           \"jaen\":    (295.5, 192),\n",
    "           \"malaga\":  (232.5,  75),\n",
    "           \"sevilla\": ( 90, 153)}"
   ]
  },
  {
   "cell_type": "markdown",
   "metadata": {},
   "source": [
    "Usando esto, definir una variable viajante_andalucia, asignándole la instancia de la clase Viajante_BL que define el problema del viajante por las capitales andaluzas."
   ]
  },
  {
   "cell_type": "code",
   "execution_count": 36,
   "metadata": {},
   "outputs": [],
   "source": [
    "viajante_andalucia = Viajante_BL(andalucia)"
   ]
  },
  {
   "cell_type": "markdown",
   "metadata": {},
   "source": [
    "Con esta instancia concreta del problema del viajante, probar la implementación realizada de genera_estado_inical y de genera_sucesor.\n",
    "\n",
    "Por ejemplo: "
   ]
  },
  {
   "cell_type": "code",
   "execution_count": 37,
   "metadata": {},
   "outputs": [],
   "source": [
    "circuito=viajante_andalucia.genera_estado_inicial()"
   ]
  },
  {
   "cell_type": "code",
   "execution_count": 38,
   "metadata": {},
   "outputs": [
    {
     "data": {
      "text/plain": [
       "['sevilla',\n",
       " 'huelva',\n",
       " 'malaga',\n",
       " 'jaen',\n",
       " 'granada',\n",
       " 'cordoba',\n",
       " 'cadiz',\n",
       " 'almeria']"
      ]
     },
     "execution_count": 38,
     "metadata": {},
     "output_type": "execute_result"
    }
   ],
   "source": [
    "circuito\n",
    "\n",
    "# Posible respuesta:\n",
    "# ['cadiz', 'huelva', 'almeria', 'jaen', 'malaga', 'sevilla', 'granada', 'cordoba']"
   ]
  },
  {
   "cell_type": "code",
   "execution_count": 39,
   "metadata": {},
   "outputs": [
    {
     "data": {
      "text/plain": [
       "['sevilla',\n",
       " 'cordoba',\n",
       " 'granada',\n",
       " 'jaen',\n",
       " 'malaga',\n",
       " 'huelva',\n",
       " 'cadiz',\n",
       " 'almeria']"
      ]
     },
     "execution_count": 39,
     "metadata": {},
     "output_type": "execute_result"
    }
   ],
   "source": [
    "viajante_andalucia.genera_sucesor(circuito)\n",
    "\n",
    "# Posible respuesta:\n",
    "# ['cadiz', 'huelva', 'jaen', 'almeria', 'malaga', 'sevilla', 'granada', 'cordoba']"
   ]
  },
  {
   "cell_type": "code",
   "execution_count": 40,
   "metadata": {},
   "outputs": [
    {
     "data": {
      "text/plain": [
       "['sevilla',\n",
       " 'huelva',\n",
       " 'granada',\n",
       " 'jaen',\n",
       " 'malaga',\n",
       " 'cordoba',\n",
       " 'cadiz',\n",
       " 'almeria']"
      ]
     },
     "execution_count": 40,
     "metadata": {},
     "output_type": "execute_result"
    }
   ],
   "source": [
    "circuito_suc = viajante_andalucia.genera_sucesor(circuito)\n",
    "circuito_suc\n",
    "\n",
    "# Posible respuesta:\n",
    "# ['cadiz', 'huelva', 'almeria', 'granada', 'sevilla', 'malaga', 'jaen', 'cordoba']"
   ]
  },
  {
   "cell_type": "markdown",
   "metadata": {},
   "source": [
    "Nótese que, puesto que estas funciones tienen una componente aleatoria, no tienen que devolver lo mismo que en estos ejemplos."
   ]
  },
  {
   "cell_type": "markdown",
   "metadata": {},
   "source": [
    "## Parte II: implementación del algoritmo de enfriamiento simulado"
   ]
  },
  {
   "cell_type": "markdown",
   "metadata": {},
   "source": [
    "### Ejercicio 3\n",
    "\n",
    "Definir una función sorteo(p), que recibe una probabilidad p y devuelve aleatoriamente True ó False, de tal manera que la probabilidad de devolver True sea precisamente p."
   ]
  },
  {
   "cell_type": "code",
   "execution_count": 41,
   "metadata": {},
   "outputs": [],
   "source": [
    "def sorteo(p):\n",
    "    if random.random() < p:\n",
    "        return True\n",
    "    else: \n",
    "        return False"
   ]
  },
  {
   "cell_type": "code",
   "execution_count": 42,
   "metadata": {},
   "outputs": [],
   "source": [
    "def experimento (p,n):\n",
    "    cont=0\n",
    "    for _ in range(n):\n",
    "        if sorteo(p):\n",
    "            cont += 1\n",
    "    return cont/n \n",
    "\n",
    "# Esta función, para n grande, debe devolver aproximadamente p."
   ]
  },
  {
   "cell_type": "code",
   "execution_count": 43,
   "metadata": {},
   "outputs": [
    {
     "data": {
      "text/plain": [
       "0.29925"
      ]
     },
     "execution_count": 43,
     "metadata": {},
     "output_type": "execute_result"
    }
   ],
   "source": [
    "# Prueba\n",
    "experimento(0.3,100000)"
   ]
  },
  {
   "cell_type": "markdown",
   "metadata": {},
   "source": [
    "### Ejercicio 4\n",
    "\n",
    "Definir una función \n",
    "\n",
    "aceptar_e_s(valor_candidata, valor_actual, T, mejor)\n",
    "\n",
    "que implementa el mecanismo de aceptación de nuevos estados dentro del algoritmo de enfriamiento simulado, donde:\n",
    "\n",
    "* valor_candidata es la valoración del estado nuevo\n",
    "* valor_actual es la valoración del estado actual\n",
    "* T es la temperatura\n",
    "* mejor es la función que se usa para comprobar si un valor es mejor qaue otro\n",
    "\n",
    "La función debe devolver True o False, dependiendo de si la candidata se acepta como nueva actual o no. \n",
    "\n",
    "Nota: se necesitará la función math.exp, que calcula la exponenciación del número e. "
   ]
  },
  {
   "cell_type": "code",
   "execution_count": 44,
   "metadata": {},
   "outputs": [],
   "source": [
    "def aceptar_e_s(valor_candidata, valor_actual, T, mejor):\n",
    "    if mejor(valor_candidata, valor_actual):\n",
    "        return True\n",
    "    else:\n",
    "        exponente = -(valor_candidata - valor_actual) / T\n",
    "        return sorteo(math.exp(exponente))"
   ]
  },
  {
   "cell_type": "code",
   "execution_count": 45,
   "metadata": {},
   "outputs": [
    {
     "data": {
      "text/plain": [
       "True"
      ]
     },
     "execution_count": 45,
     "metadata": {},
     "output_type": "execute_result"
    }
   ],
   "source": [
    "# Ejemplo de uso\n",
    "aceptar_e_s(12,11.5,10,lambda x,y: x < y)\n",
    "\n",
    "# Posible respuesta;\n",
    "# True"
   ]
  },
  {
   "cell_type": "markdown",
   "metadata": {},
   "source": [
    "### Ejercicio 5\n",
    "\n",
    "Implementar el algoritmo de enfriamiento simulado, completando el siguiente código:"
   ]
  },
  {
   "cell_type": "code",
   "execution_count": 48,
   "metadata": {},
   "outputs": [],
   "source": [
    "def enfriamiento_simulado(problema, t_inicial, factor_descenso, n_enfriamientos, n_iteraciones):\n",
    "    \n",
    "    #Recibe como entrada:\n",
    "    # Un problema de busqueda local\n",
    "    # Una temperatura inicial\n",
    "    # Un factor de descenso\n",
    "    # Un nº total de enfriamientos\n",
    "    # Un nº total de iteraciones para cada T\n",
    "    \n",
    "    actual = problema.genera_estado_inicial()\n",
    "    valor_actual = problema.valoracion(actual)\n",
    "    mejor = actual\n",
    "    valor_mejor = valor_actual\n",
    "    T = t_inicial\n",
    "    \n",
    "    for _ in range(n_enfriamientos):\n",
    "        for _ in range(n_iteraciones):\n",
    "            candidata = problema.genera_sucesor(actual)\n",
    "            valor_candidata = problema.valoracion(candidata)\n",
    "            \n",
    "            if aceptar_e_s(valor_candidata, valor_actual, T, problema.mejor):\n",
    "                actual = candidata\n",
    "                valor_actual = valor_candidata\n",
    "                \n",
    "                if problema.mejor(valor_actual, valor_mejor):\n",
    "                    mejor = actual\n",
    "                    valor_mejor = valor_actual\n",
    "        T *= factor_descenso\n",
    "    return (mejor, valor_mejor)"
   ]
  },
  {
   "cell_type": "markdown",
   "metadata": {},
   "source": [
    "## Parte III: Resolviendo diversos problemas del viajante"
   ]
  },
  {
   "cell_type": "markdown",
   "metadata": {},
   "source": [
    "### Ejercicio 6\n",
    "\n",
    "Tratar de resolver el problema del viajante por Andalucía, usando enfriamento simulado. Probar con diversos valores para los parámetros de entrada al algoritmo  de enfriamiento simulado:"
   ]
  },
  {
   "cell_type": "code",
   "execution_count": 49,
   "metadata": {},
   "outputs": [
    {
     "data": {
      "text/plain": [
       "(['sevilla',\n",
       "  'cordoba',\n",
       "  'jaen',\n",
       "  'almeria',\n",
       "  'granada',\n",
       "  'malaga',\n",
       "  'cadiz',\n",
       "  'huelva'],\n",
       " 929.9255755927757)"
      ]
     },
     "execution_count": 49,
     "metadata": {},
     "output_type": "execute_result"
    }
   ],
   "source": [
    "enfriamiento_simulado(viajante_andalucia, 10, 0.95, 20, 20)\n",
    "\n",
    "# Posible respuesta: \n",
    "# (['malaga', 'cadiz', 'huelva', 'sevilla', 'cordoba', 'jaen', 'almeria',\n",
    "#   'granada'], \n",
    "#   929.9255755927754)"
   ]
  },
  {
   "cell_type": "markdown",
   "metadata": {},
   "source": [
    "### Ejercicio 7\n",
    "\n",
    "Definir una función cuadrado_puntos_bl(n), que recibiendo un número natural n, devuelve una instancia del problema del viajante (para búsqueda local), considerando que las ciudades son $4n$ puntos del plano dispuestos en forma de cuadrado, tal y como se ha explicado en clase.\n",
    "\n"
   ]
  },
  {
   "cell_type": "code",
   "execution_count": 50,
   "metadata": {},
   "outputs": [],
   "source": [
    "def cuadrado_puntos_bl(n):\n",
    "    ciudades_coords = {}\n",
    "    id_ciudad = 0\n",
    "    \n",
    "    for i in range(n+1):\n",
    "        ciudades_coords[id_ciudad] = (0, i)\n",
    "        ciudades_coords[id_ciudad + 1] = (n, i)\n",
    "        id_ciudad += 2\n",
    "        \n",
    "        if i not in (0, n):\n",
    "            ciudades_coords[id_ciudad] = (i, 0)\n",
    "            ciudades_coords[id_ciudad + 1] = (i, n)\n",
    "            id_ciudad += 2\n",
    "            \n",
    "    return Viajante_BL(ciudades_coords)"
   ]
  },
  {
   "cell_type": "markdown",
   "metadata": {},
   "source": [
    "Probar el algoritmo de enfriamiento simulado, en este problema del cuadrado de puntos, para distintos valores de n.\n",
    "\n",
    "Nótese que en esta caso, por consideraciones geométricas, se conoce que el camino óptimo es de distancia $4n$. Esto nos puede servir de referencia para comprobar el rendimiento del algoritmo."
   ]
  },
  {
   "cell_type": "code",
   "execution_count": 51,
   "metadata": {},
   "outputs": [
    {
     "data": {
      "text/plain": [
       "([3, 7, 11, 9, 5, 10, 6, 2, 0, 4, 8, 1], 12.0)"
      ]
     },
     "execution_count": 51,
     "metadata": {},
     "output_type": "execute_result"
    }
   ],
   "source": [
    "enfriamiento_simulado(cuadrado_puntos_bl(3), 5, 0.95, 100, 100)\n",
    "\n",
    "# Posible respuesta:\n",
    "# ([(2, 0), (3, 0), (3, 1), (3, 2), (3, 3), (2, 3), (1, 3), (0, 3), \n",
    "#   (0, 2), (0, 1), (0, 0), (1, 0)], \n",
    "#  12.0)"
   ]
  },
  {
   "cell_type": "code",
   "execution_count": 52,
   "metadata": {},
   "outputs": [
    {
     "data": {
      "text/plain": [
       "73.41421356237309"
      ]
     },
     "execution_count": 52,
     "metadata": {},
     "output_type": "execute_result"
    }
   ],
   "source": [
    "enfriamiento_simulado(cuadrado_puntos_bl(15), 35, 0.95, 100, 100)[1]\n",
    "\n",
    "# Posible respuesta\n",
    "# 74.0"
   ]
  },
  {
   "cell_type": "markdown",
   "metadata": {},
   "source": [
    "### Ejercicio 8\n",
    "\n",
    "Finalmente, se pide probar la potencia de nuestro algoritmo con dos problemas del viajante reales, algo más complicados. Estos problemas se han tomado de TSPLIB, una biblioteca con problemas del viajante resueltos\n",
    "http://comopt.ifi.uni-heidelberg.de/software/TSPLIB95/"
   ]
  },
  {
   "cell_type": "code",
   "execution_count": 53,
   "metadata": {},
   "outputs": [],
   "source": [
    "# Problema Berlin 52:\n",
    "# 52 lugares de Berlin (Groetschel)\n",
    "# La ruta óptima está valorada en 7542\n",
    "# La siguiente variable contiene las coordinadas de los lugares. La distancia\n",
    "# entre ciudades es la euclídea en dos dimensiones.\n",
    "\n",
    "berlin52=[(565.0, 575.0),\n",
    "        (25.0, 185.0),\n",
    "        (345.0, 750.0),\n",
    "        (945.0, 685.0),\n",
    "        (845.0, 655.0),\n",
    "        (880.0, 660.0),\n",
    "        (25.0, 230.0),\n",
    "        (525.0, 1000.0),\n",
    "        (580.0, 1175.0),\n",
    "        (650.0, 1130.0),\n",
    "        (1605.0, 620.0 ),\n",
    "        (1220.0, 580.0),\n",
    "        (1465.0, 200.0),\n",
    "        (1530.0, 5.0),\n",
    "        (845.0, 680.0),\n",
    "        (725.0, 370.0),\n",
    "        (145.0, 665.0),\n",
    "        (415.0, 635.0),\n",
    "        (510.0, 875.0  ),\n",
    "        (560.0, 365.0),\n",
    "        (300.0, 465.0),\n",
    "        (520.0, 585.0),\n",
    "        (480.0, 415.0),\n",
    "        (835.0, 625.0),\n",
    "        (975.0, 580.0),\n",
    "        (1215.0, 245.0),\n",
    "        (1320.0, 315.0),\n",
    "        (1250.0, 400.0),\n",
    "        (660.0, 180.0),\n",
    "        (410.0, 250.0),\n",
    "        (420.0, 555.0),\n",
    "        (575.0, 665.0),\n",
    "        (1150.0, 1160.0),\n",
    "        (700.0, 580.0),\n",
    "        (685.0, 595.0),\n",
    "        (685.0, 610.0),\n",
    "        (770.0, 610.0),\n",
    "        (795.0, 645.0),\n",
    "        (720.0, 635.0),\n",
    "        (760.0, 650.0),\n",
    "        (475.0, 960.0),\n",
    "        (95.0, 260.0),\n",
    "        (875.0, 920.0),\n",
    "        (700.0, 500.0),\n",
    "        (555.0, 815.0),\n",
    "        (830.0, 485.0),\n",
    "        (1170.0, 65.0),\n",
    "        (830.0, 610.0),\n",
    "        (605.0, 625.0),\n",
    "        (595.0, 360.0),\n",
    "        (1340.0, 725.0),\n",
    "        (1740.0, 245.0)]"
   ]
  },
  {
   "cell_type": "code",
   "execution_count": 54,
   "metadata": {},
   "outputs": [
    {
     "data": {
      "text/plain": [
       "7972.767623501293"
      ]
     },
     "execution_count": 54,
     "metadata": {},
     "output_type": "execute_result"
    }
   ],
   "source": [
    "viajante_berlin52 = Viajante_BL({i:berlin52[i] for i in range(len(berlin52))})\n",
    "\n",
    "enfriamiento_simulado(viajante_berlin52,1000,0.95,300,300)[1]\n",
    "\n",
    "# Posible respuesta:\n",
    "# 7598.442340904538\n",
    "\n",
    "# La ruta óptima está valorada en 7542."
   ]
  },
  {
   "cell_type": "code",
   "execution_count": 55,
   "metadata": {},
   "outputs": [],
   "source": [
    "# Problema pr76\n",
    "# 76 ciudades (presentado por Padberg y Rinaldi)\n",
    "# La ruta óptima está valorada en 108159\n",
    "# La siguiente variable contiene las coordinadas de los lugares. La distancia\n",
    "# entre ciudades es la euclídea en dos dimensiones.\n",
    "\n",
    "pr76=[(3600, 2300),\n",
    "      (3100, 3300),\n",
    "      (4700, 5750),\n",
    "      (5400, 5750),\n",
    "      (5608, 7103),\n",
    "      (4493, 7102),\n",
    "      (3600, 6950),\n",
    "      (3100, 7250),\n",
    "      (4700, 8450),\n",
    "      (5400, 8450),\n",
    "      (5610, 10053),\n",
    "      (4492, 10052),\n",
    "      (3600, 10800),\n",
    "      (3100, 10950),\n",
    "      (4700, 11650),\n",
    "      (5400, 11650),\n",
    "      (6650, 10800),\n",
    "      (7300, 10950),\n",
    "      (7300, 7250),\n",
    "      (6650, 6950),\n",
    "      (7300, 3300),\n",
    "      (6650, 2300),\n",
    "      (5400, 1600),\n",
    "      (8350, 2300),\n",
    "      (7850, 3300),\n",
    "      (9450, 5750),\n",
    "      (10150, 5750),\n",
    "      (10358, 7103),\n",
    "      (9243, 7102),\n",
    "      (8350, 6950),\n",
    "      (7850, 7250),\n",
    "      (9450, 8450),\n",
    "      (10150, 8450),\n",
    "      (10360, 10053),\n",
    "      (9242, 10052),\n",
    "      (8350, 10800),\n",
    "      (7850, 10950),\n",
    "      (9450, 11650),\n",
    "      (10150, 11650),\n",
    "      (11400, 10800),\n",
    "      (12050, 10950),\n",
    "      (12050, 7250),\n",
    "      (11400, 6950),\n",
    "      (12050, 3300),\n",
    "      (11400, 2300),\n",
    "      (10150, 1600),\n",
    "      (13100, 2300),\n",
    "      (12600, 3300),\n",
    "      (14200, 5750),\n",
    "      (14900, 5750),\n",
    "      (15108, 7103),\n",
    "      (13993, 7102),\n",
    "      (13100, 6950),\n",
    "      (12600, 7250),\n",
    "      (14200, 8450),\n",
    "      (14900, 8450),\n",
    "      (15110, 10053),\n",
    "      (13992, 10052),\n",
    "      (13100, 10800),\n",
    "      (12600, 10950),\n",
    "      (14200, 11650),\n",
    "      (14900, 11650),\n",
    "      (16150, 10800),\n",
    "      (16800, 10950),\n",
    "      (16800, 7250),\n",
    "      (16150, 6950),\n",
    "      (16800, 3300),\n",
    "      (16150, 2300),\n",
    "      (14900, 1600),\n",
    "      (19800, 800),\n",
    "      (19800, 10000),\n",
    "      (19800, 11900),\n",
    "      (19800, 12200),\n",
    "      (200, 12200),\n",
    "      (200, 1100),\n",
    "      (200, 800)]"
   ]
  },
  {
   "cell_type": "code",
   "execution_count": 57,
   "metadata": {},
   "outputs": [
    {
     "ename": "KeyboardInterrupt",
     "evalue": "",
     "output_type": "error",
     "traceback": [
      "\u001b[1;31m---------------------------------------------------------------------------\u001b[0m",
      "\u001b[1;31mKeyboardInterrupt\u001b[0m                         Traceback (most recent call last)",
      "\u001b[1;32m<ipython-input-57-781d90c51f92>\u001b[0m in \u001b[0;36m<module>\u001b[1;34m\u001b[0m\n\u001b[0;32m      1\u001b[0m \u001b[0mviajante_pr76\u001b[0m \u001b[1;33m=\u001b[0m \u001b[0mViajante_BL\u001b[0m\u001b[1;33m(\u001b[0m\u001b[1;33m{\u001b[0m\u001b[0mi\u001b[0m\u001b[1;33m:\u001b[0m\u001b[0mpr76\u001b[0m\u001b[1;33m[\u001b[0m\u001b[0mi\u001b[0m\u001b[1;33m]\u001b[0m \u001b[1;32mfor\u001b[0m \u001b[0mi\u001b[0m \u001b[1;32min\u001b[0m \u001b[0mrange\u001b[0m\u001b[1;33m(\u001b[0m\u001b[0mlen\u001b[0m\u001b[1;33m(\u001b[0m\u001b[0mpr76\u001b[0m\u001b[1;33m)\u001b[0m\u001b[1;33m)\u001b[0m\u001b[1;33m}\u001b[0m\u001b[1;33m)\u001b[0m\u001b[1;33m\u001b[0m\u001b[1;33m\u001b[0m\u001b[0m\n\u001b[0;32m      2\u001b[0m \u001b[1;33m\u001b[0m\u001b[0m\n\u001b[1;32m----> 3\u001b[1;33m \u001b[0menfriamiento_simulado\u001b[0m\u001b[1;33m(\u001b[0m\u001b[0mviajante_pr76\u001b[0m\u001b[1;33m,\u001b[0m\u001b[1;36m200000\u001b[0m\u001b[1;33m,\u001b[0m\u001b[1;36m0.95\u001b[0m\u001b[1;33m,\u001b[0m\u001b[1;36m1000\u001b[0m\u001b[1;33m,\u001b[0m\u001b[1;36m1000\u001b[0m\u001b[1;33m)\u001b[0m\u001b[1;33m[\u001b[0m\u001b[1;36m1\u001b[0m\u001b[1;33m]\u001b[0m\u001b[1;33m\u001b[0m\u001b[1;33m\u001b[0m\u001b[0m\n\u001b[0m\u001b[0;32m      4\u001b[0m \u001b[1;33m\u001b[0m\u001b[0m\n\u001b[0;32m      5\u001b[0m \u001b[1;31m# Posible respuesta:\u001b[0m\u001b[1;33m\u001b[0m\u001b[1;33m\u001b[0m\u001b[1;33m\u001b[0m\u001b[0m\n",
      "\u001b[1;32m<ipython-input-48-aae4f14766b6>\u001b[0m in \u001b[0;36menfriamiento_simulado\u001b[1;34m(problema, t_inicial, factor_descenso, n_enfriamientos, n_iteraciones)\u001b[0m\n\u001b[0;32m     17\u001b[0m         \u001b[1;32mfor\u001b[0m \u001b[0m_\u001b[0m \u001b[1;32min\u001b[0m \u001b[0mrange\u001b[0m\u001b[1;33m(\u001b[0m\u001b[0mn_iteraciones\u001b[0m\u001b[1;33m)\u001b[0m\u001b[1;33m:\u001b[0m\u001b[1;33m\u001b[0m\u001b[1;33m\u001b[0m\u001b[0m\n\u001b[0;32m     18\u001b[0m             \u001b[0mcandidata\u001b[0m \u001b[1;33m=\u001b[0m \u001b[0mproblema\u001b[0m\u001b[1;33m.\u001b[0m\u001b[0mgenera_sucesor\u001b[0m\u001b[1;33m(\u001b[0m\u001b[0mactual\u001b[0m\u001b[1;33m)\u001b[0m\u001b[1;33m\u001b[0m\u001b[1;33m\u001b[0m\u001b[0m\n\u001b[1;32m---> 19\u001b[1;33m             \u001b[0mvalor_candidata\u001b[0m \u001b[1;33m=\u001b[0m \u001b[0mproblema\u001b[0m\u001b[1;33m.\u001b[0m\u001b[0mvaloracion\u001b[0m\u001b[1;33m(\u001b[0m\u001b[0mcandidata\u001b[0m\u001b[1;33m)\u001b[0m\u001b[1;33m\u001b[0m\u001b[1;33m\u001b[0m\u001b[0m\n\u001b[0m\u001b[0;32m     20\u001b[0m \u001b[1;33m\u001b[0m\u001b[0m\n\u001b[0;32m     21\u001b[0m             \u001b[1;32mif\u001b[0m \u001b[0maceptar_e_s\u001b[0m\u001b[1;33m(\u001b[0m\u001b[0mvalor_candidata\u001b[0m\u001b[1;33m,\u001b[0m \u001b[0mvalor_actual\u001b[0m\u001b[1;33m,\u001b[0m \u001b[0mT\u001b[0m\u001b[1;33m,\u001b[0m \u001b[0mproblema\u001b[0m\u001b[1;33m.\u001b[0m\u001b[0mmejor\u001b[0m\u001b[1;33m)\u001b[0m\u001b[1;33m:\u001b[0m\u001b[1;33m\u001b[0m\u001b[1;33m\u001b[0m\u001b[0m\n",
      "\u001b[1;32m<ipython-input-33-0ce8b8065e57>\u001b[0m in \u001b[0;36mvaloracion\u001b[1;34m(self, estado)\u001b[0m\n\u001b[0;32m     28\u001b[0m         \u001b[0mnum_ciudades\u001b[0m \u001b[1;33m=\u001b[0m \u001b[0mlen\u001b[0m\u001b[1;33m(\u001b[0m\u001b[0mestado\u001b[0m\u001b[1;33m)\u001b[0m\u001b[1;33m\u001b[0m\u001b[1;33m\u001b[0m\u001b[0m\n\u001b[0;32m     29\u001b[0m \u001b[1;33m\u001b[0m\u001b[0m\n\u001b[1;32m---> 30\u001b[1;33m         \u001b[1;32mreturn\u001b[0m \u001b[0msum\u001b[0m\u001b[1;33m(\u001b[0m\u001b[1;33m[\u001b[0m\u001b[0mdistancia_euc2D\u001b[0m\u001b[1;33m(\u001b[0m\u001b[0mestado\u001b[0m\u001b[1;33m[\u001b[0m\u001b[0mi\u001b[0m\u001b[1;33m]\u001b[0m\u001b[1;33m,\u001b[0m \u001b[0mestado\u001b[0m\u001b[1;33m[\u001b[0m\u001b[1;33m(\u001b[0m\u001b[0mi\u001b[0m\u001b[1;33m+\u001b[0m\u001b[1;36m1\u001b[0m\u001b[1;33m)\u001b[0m \u001b[1;33m%\u001b[0m \u001b[0mnum_ciudades\u001b[0m\u001b[1;33m]\u001b[0m\u001b[1;33m,\u001b[0m \u001b[0mself\u001b[0m\u001b[1;33m.\u001b[0m\u001b[0mciudades_coords\u001b[0m\u001b[1;33m)\u001b[0m \u001b[1;32mfor\u001b[0m \u001b[0mi\u001b[0m \u001b[1;32min\u001b[0m \u001b[0mrange\u001b[0m\u001b[1;33m(\u001b[0m\u001b[0mnum_ciudades\u001b[0m\u001b[1;33m)\u001b[0m\u001b[1;33m]\u001b[0m\u001b[1;33m)\u001b[0m\u001b[1;33m\u001b[0m\u001b[1;33m\u001b[0m\u001b[0m\n\u001b[0m",
      "\u001b[1;32m<ipython-input-33-0ce8b8065e57>\u001b[0m in \u001b[0;36m<listcomp>\u001b[1;34m(.0)\u001b[0m\n\u001b[0;32m     28\u001b[0m         \u001b[0mnum_ciudades\u001b[0m \u001b[1;33m=\u001b[0m \u001b[0mlen\u001b[0m\u001b[1;33m(\u001b[0m\u001b[0mestado\u001b[0m\u001b[1;33m)\u001b[0m\u001b[1;33m\u001b[0m\u001b[1;33m\u001b[0m\u001b[0m\n\u001b[0;32m     29\u001b[0m \u001b[1;33m\u001b[0m\u001b[0m\n\u001b[1;32m---> 30\u001b[1;33m         \u001b[1;32mreturn\u001b[0m \u001b[0msum\u001b[0m\u001b[1;33m(\u001b[0m\u001b[1;33m[\u001b[0m\u001b[0mdistancia_euc2D\u001b[0m\u001b[1;33m(\u001b[0m\u001b[0mestado\u001b[0m\u001b[1;33m[\u001b[0m\u001b[0mi\u001b[0m\u001b[1;33m]\u001b[0m\u001b[1;33m,\u001b[0m \u001b[0mestado\u001b[0m\u001b[1;33m[\u001b[0m\u001b[1;33m(\u001b[0m\u001b[0mi\u001b[0m\u001b[1;33m+\u001b[0m\u001b[1;36m1\u001b[0m\u001b[1;33m)\u001b[0m \u001b[1;33m%\u001b[0m \u001b[0mnum_ciudades\u001b[0m\u001b[1;33m]\u001b[0m\u001b[1;33m,\u001b[0m \u001b[0mself\u001b[0m\u001b[1;33m.\u001b[0m\u001b[0mciudades_coords\u001b[0m\u001b[1;33m)\u001b[0m \u001b[1;32mfor\u001b[0m \u001b[0mi\u001b[0m \u001b[1;32min\u001b[0m \u001b[0mrange\u001b[0m\u001b[1;33m(\u001b[0m\u001b[0mnum_ciudades\u001b[0m\u001b[1;33m)\u001b[0m\u001b[1;33m]\u001b[0m\u001b[1;33m)\u001b[0m\u001b[1;33m\u001b[0m\u001b[1;33m\u001b[0m\u001b[0m\n\u001b[0m",
      "\u001b[1;31mKeyboardInterrupt\u001b[0m: "
     ]
    }
   ],
   "source": [
    "viajante_pr76 = Viajante_BL({i:pr76[i] for i in range(len(pr76))})\n",
    "\n",
    "enfriamiento_simulado(viajante_pr76,200000,0.95,1000,1000)[1]\n",
    "\n",
    "# Posible respuesta:\n",
    "# 111378.8272440735\n",
    "\n",
    "# La ruta óptima está valorada en 108159"
   ]
  },
  {
   "cell_type": "code",
   "execution_count": null,
   "metadata": {},
   "outputs": [],
   "source": [
    "# FINALIZADO"
   ]
  }
 ],
 "metadata": {
  "kernelspec": {
   "display_name": "Python 3",
   "language": "python",
   "name": "python3"
  },
  "language_info": {
   "codemirror_mode": {
    "name": "ipython",
    "version": 3
   },
   "file_extension": ".py",
   "mimetype": "text/x-python",
   "name": "python",
   "nbconvert_exporter": "python",
   "pygments_lexer": "ipython3",
   "version": "3.8.5"
  }
 },
 "nbformat": 4,
 "nbformat_minor": 2
}
