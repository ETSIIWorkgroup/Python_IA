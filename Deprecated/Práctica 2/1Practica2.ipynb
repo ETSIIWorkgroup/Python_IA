{
 "cells": [
  {
   "cell_type": "markdown",
   "metadata": {},
   "source": [
    "# Práctica 2 - Inteligencia Artificial\n",
    "\n",
    "### Grado Ingeniería Informática Tecnologías Informáticas - Curso 2019-20\n",
    "\n",
    "### Técnicas metaheurísticas para optimización\n",
    "### Algoritmos Genéticos\n",
    "\n",
    "Miguel A. Gutérrez Naranjo - 15 de octubre, 2019."
   ]
  },
  {
   "cell_type": "markdown",
   "metadata": {},
   "source": [
    "La Gioconda es un óleo sobre tabla de álamo de 77 × 53 cm, pintado entre 1503 y 1519 por Leonardo da Vinci. En esta práctica vamos a usar algoritmos genéticos para aproximar esa imagen mediante rectángulos en escala de grises."
   ]
  },
  {
   "cell_type": "markdown",
   "metadata": {},
   "source": [
    "<img src=\"gioconda.jpg\">"
   ]
  },
  {
   "cell_type": "markdown",
   "metadata": {},
   "source": [
    "Usaremos una representación muy básica y se espera que, tras realizar la práctica, el alumno sea capaz de probar con otros polígonos y pasar de la escala de grises a imágenes en color. También es interesante buscar otras definiciones de la función decodifica, que permite generar la imagen a partir del cromosoma, otras funciones de *fitness* y otros algoritmos genéticos. En la práctica, consideraremos poblaciones de individuos, donde cada individuo se represantará mediante una tupla de genes. Además, cada individuo tendrá asociado un determinado valor *fitness* para poder comparar entre ellos. Cada gen será una tupla $(x,y,dx,dy,c)$ que interpretaremos como un rectángulo con extremo superior izquierda $(x,y)$, lados $dx$ y $dy$ y $c\\in \\{0,1,\\dots,255\\}$ representa su color (en escala de grises)."
   ]
  },
  {
   "cell_type": "markdown",
   "metadata": {},
   "source": [
    "En primer lugar cargamos las librerías que vamos a necesitar."
   ]
  },
  {
   "cell_type": "code",
   "execution_count": 3,
   "metadata": {
    "scrolled": true
   },
   "outputs": [
    {
     "ename": "ModuleNotFoundError",
     "evalue": "No module named 'numpy'",
     "output_type": "error",
     "traceback": [
      "\u001b[1;31m---------------------------------------------------------------------------\u001b[0m",
      "\u001b[1;31mModuleNotFoundError\u001b[0m                       Traceback (most recent call last)",
      "\u001b[1;32m<ipython-input-3-c8e555016b48>\u001b[0m in \u001b[0;36m<module>\u001b[1;34m\u001b[0m\n\u001b[0;32m      1\u001b[0m \u001b[1;31m# 1.- numpy para la representación matricial\u001b[0m\u001b[1;33m\u001b[0m\u001b[1;33m\u001b[0m\u001b[1;33m\u001b[0m\u001b[0m\n\u001b[1;32m----> 2\u001b[1;33m \u001b[1;32mimport\u001b[0m \u001b[0mnumpy\u001b[0m \u001b[1;32mas\u001b[0m \u001b[0mnp\u001b[0m\u001b[1;33m\u001b[0m\u001b[1;33m\u001b[0m\u001b[0m\n\u001b[0m\u001b[0;32m      3\u001b[0m \u001b[1;33m\u001b[0m\u001b[0m\n\u001b[0;32m      4\u001b[0m \u001b[1;31m# 2.- random para poder tomar valores aleatorios\u001b[0m\u001b[1;33m\u001b[0m\u001b[1;33m\u001b[0m\u001b[1;33m\u001b[0m\u001b[0m\n\u001b[0;32m      5\u001b[0m \u001b[1;32mimport\u001b[0m \u001b[0mrandom\u001b[0m\u001b[1;33m,\u001b[0m \u001b[0mmath\u001b[0m\u001b[1;33m\u001b[0m\u001b[1;33m\u001b[0m\u001b[0m\n",
      "\u001b[1;31mModuleNotFoundError\u001b[0m: No module named 'numpy'"
     ]
    }
   ],
   "source": [
    "# 1.- numpy para la representación matricial\n",
    "import numpy as np\n",
    "\n",
    "# 2.- random para poder tomar valores aleatorios\n",
    "import random, math\n",
    "\n",
    "# 3.- PIL e imageio para leer y escribir imágenes.\n",
    "from PIL import Image\n",
    "import imageio\n",
    "\n",
    "# Para dibujar\n",
    "import matplotlib as mpl\n",
    "from matplotlib import pyplot as plt\n",
    "mpl.rcParams['figure.figsize'] = (15,10) # Para el tamaño de la imagen"
   ]
  },
  {
   "cell_type": "markdown",
   "metadata": {},
   "source": [
    "Para empezar, tomamos la imagen que queremos aproximar desde un fichero y lo guardamos como una imagen python (en este caso el fichero gioconda.jpg). Para ello\n",
    "usamos la librería PIL para convertir la imagen en una imagen en escala de grises de 8-bits (256 valores). Ver \n",
    "https://pillow.readthedocs.io/en/3.1.x/handbook/concepts.html#concept-modes"
   ]
  },
  {
   "cell_type": "code",
   "execution_count": 2,
   "metadata": {},
   "outputs": [
    {
     "ename": "NameError",
     "evalue": "name 'Image' is not defined",
     "output_type": "error",
     "traceback": [
      "\u001b[1;31m---------------------------------------------------------------------------\u001b[0m",
      "\u001b[1;31mNameError\u001b[0m                                 Traceback (most recent call last)",
      "\u001b[1;32m<ipython-input-2-03be7605b73b>\u001b[0m in \u001b[0;36m<module>\u001b[1;34m\u001b[0m\n\u001b[0;32m      1\u001b[0m \u001b[0mimagen_original\u001b[0m \u001b[1;33m=\u001b[0m \u001b[1;34m'gioconda.jpg'\u001b[0m\u001b[1;33m\u001b[0m\u001b[1;33m\u001b[0m\u001b[0m\n\u001b[1;32m----> 2\u001b[1;33m \u001b[0mimg\u001b[0m \u001b[1;33m=\u001b[0m \u001b[0mImage\u001b[0m\u001b[1;33m.\u001b[0m\u001b[0mopen\u001b[0m\u001b[1;33m(\u001b[0m\u001b[0mimagen_original\u001b[0m\u001b[1;33m)\u001b[0m\u001b[1;33m.\u001b[0m\u001b[0mconvert\u001b[0m\u001b[1;33m(\u001b[0m\u001b[1;34m'L'\u001b[0m\u001b[1;33m)\u001b[0m\u001b[1;33m\u001b[0m\u001b[1;33m\u001b[0m\u001b[0m\n\u001b[0m",
      "\u001b[1;31mNameError\u001b[0m: name 'Image' is not defined"
     ]
    }
   ],
   "source": [
    "imagen_original = 'gioconda.jpg'\n",
    "img = Image.open(imagen_original).convert('L')"
   ]
  },
  {
   "cell_type": "markdown",
   "metadata": {},
   "source": [
    "Podemos ver la imagen una vez transformada"
   ]
  },
  {
   "cell_type": "code",
   "execution_count": null,
   "metadata": {},
   "outputs": [],
   "source": [
    "plt.imshow(img,cmap='gray')"
   ]
  },
  {
   "cell_type": "markdown",
   "metadata": {},
   "source": [
    "A continuación, transformamos la imagen en una matriz de valores comprendido entre 0 y 255 mediante la librería numpy. Es importante saber que al cambiar el tipo de dato de imagen a matriz se cambian los ejes\n",
    "https://stackoverflow.com/questions/33725237/image-fromarray-changes-size.\n",
    "Llamamos IM2ARRAY a la matriz que guarda las intensidades de gris de los píxeles."
   ]
  },
  {
   "cell_type": "code",
   "execution_count": null,
   "metadata": {},
   "outputs": [],
   "source": [
    "IM2ARRAY = np.array(img)\n",
    "#IM2ARRAY = np.array(img, dtype='int32')"
   ]
  },
  {
   "cell_type": "markdown",
   "metadata": {},
   "source": [
    "Podemos ver qué aspecto tiene"
   ]
  },
  {
   "cell_type": "code",
   "execution_count": null,
   "metadata": {},
   "outputs": [],
   "source": [
    "IM2ARRAY"
   ]
  },
  {
   "cell_type": "markdown",
   "metadata": {},
   "source": [
    "Guardamos el tamaño de la matriz en la variable *im2array_shape* para poder crear otras matrices con el mismo tamaño."
   ]
  },
  {
   "cell_type": "code",
   "execution_count": null,
   "metadata": {},
   "outputs": [],
   "source": [
    "im2array_shape = IM2ARRAY.shape\n",
    "#im2array_shape"
   ]
  },
  {
   "cell_type": "markdown",
   "metadata": {},
   "source": [
    "A continuación fijamos los parámetros del algoritmo genético para aproximar la imagen original mediante rectángulos en escala de grises."
   ]
  },
  {
   "cell_type": "code",
   "execution_count": null,
   "metadata": {},
   "outputs": [],
   "source": [
    "# Número de genes que conforman un individuo\n",
    "NUMERO_DE_GENES = 150\n",
    "\n",
    "# Tamaño de la población\n",
    "TAMANO_POB = 500\n",
    "\n",
    "# Participantes en un torneo\n",
    "NUM_PARTICIPANTES = 50\n",
    "\n",
    "# Probabilidad de mutación\n",
    "PROB_MUTACION = 0.1\n",
    "\n",
    "# Proporción de individuos que van a ser padres\n",
    "PROP_CRUCES = 0.5\n",
    "\n",
    "# Número de iteraciones\n",
    "ITERACIONES = 10001\n",
    "\n",
    "# Paso de impresión. Crearemos la imagen correspondiente al mejor individuo después de PASO_IMP iteraciones\n",
    "PASO_IMP = 100"
   ]
  },
  {
   "cell_type": "markdown",
   "metadata": {},
   "source": [
    "### Ejercicio 1\n",
    "Define la función genera_gen() que a partir de la variable *im2array_shape* devuelva una tupla $(x,y,dx,dy,c)$. Una vez fijado el extremo $(x,y)$ dentro del lienzo, debemos tener en cuenta que el rectángulo esté dentro del lienzo y que el color esté en el rango 0-255. "
   ]
  },
  {
   "cell_type": "code",
   "execution_count": null,
   "metadata": {},
   "outputs": [],
   "source": [
    "def genera_gen():\n",
    "    max_x, max_y = im2array_shape[0] - 1, im2array_shape[1] - 1\n",
    "    \n",
    "    x, y = random.randint(0, max_x), random.randint(0, max_y)\n",
    "    dx, dy = random.randint(0, max_x - x), random.randint(0, max_y - y)\n",
    "    c = random.randint(0, 255)\n",
    "    \n",
    "    return (x, y, dx, dy, c)"
   ]
  },
  {
   "cell_type": "code",
   "execution_count": null,
   "metadata": {},
   "outputs": [],
   "source": [
    "# Puedes probar la función\n",
    "genera_gen()\n",
    "\n",
    "# Posible respuesta:\n",
    "# (185, 223, 49, 16, 2)"
   ]
  },
  {
   "cell_type": "markdown",
   "metadata": {},
   "source": [
    "### Ejercicio 2\n",
    "Define genera_individuo() que devuelva una tupla con tantos genes como determine el parámetro *NUMERO_DE_GENES*"
   ]
  },
  {
   "cell_type": "code",
   "execution_count": 6,
   "metadata": {},
   "outputs": [],
   "source": [
    "def genera_individuo():\n",
    "    return tuple(genera_gen() for _ in range(NUMERO_DE_GENES))"
   ]
  },
  {
   "cell_type": "code",
   "execution_count": 7,
   "metadata": {},
   "outputs": [
    {
     "ename": "NameError",
     "evalue": "name 'NUMERO_DE_GENES' is not defined",
     "output_type": "error",
     "traceback": [
      "\u001b[1;31m---------------------------------------------------------------------------\u001b[0m",
      "\u001b[1;31mNameError\u001b[0m                                 Traceback (most recent call last)",
      "\u001b[1;32m<ipython-input-7-973231cf1c85>\u001b[0m in \u001b[0;36m<module>\u001b[1;34m\u001b[0m\n\u001b[0;32m      1\u001b[0m \u001b[1;31m# Ejemplo de uso. Guardamos el individuo generado en la variable ind_1\u001b[0m\u001b[1;33m\u001b[0m\u001b[1;33m\u001b[0m\u001b[1;33m\u001b[0m\u001b[0m\n\u001b[1;32m----> 2\u001b[1;33m \u001b[0mind_1\u001b[0m \u001b[1;33m=\u001b[0m \u001b[0mgenera_individuo\u001b[0m\u001b[1;33m(\u001b[0m\u001b[1;33m)\u001b[0m\u001b[1;33m\u001b[0m\u001b[1;33m\u001b[0m\u001b[0m\n\u001b[0m\u001b[0;32m      3\u001b[0m \u001b[0mind_1\u001b[0m\u001b[1;33m\u001b[0m\u001b[1;33m\u001b[0m\u001b[0m\n\u001b[0;32m      4\u001b[0m \u001b[1;33m\u001b[0m\u001b[0m\n\u001b[0;32m      5\u001b[0m \u001b[1;31m# Posible respuesta:\u001b[0m\u001b[1;33m\u001b[0m\u001b[1;33m\u001b[0m\u001b[1;33m\u001b[0m\u001b[0m\n",
      "\u001b[1;32m<ipython-input-6-ef8cae3618da>\u001b[0m in \u001b[0;36mgenera_individuo\u001b[1;34m()\u001b[0m\n\u001b[0;32m      1\u001b[0m \u001b[1;31m# Solución\u001b[0m\u001b[1;33m\u001b[0m\u001b[1;33m\u001b[0m\u001b[1;33m\u001b[0m\u001b[0m\n\u001b[0;32m      2\u001b[0m \u001b[1;32mdef\u001b[0m \u001b[0mgenera_individuo\u001b[0m\u001b[1;33m(\u001b[0m\u001b[1;33m)\u001b[0m\u001b[1;33m:\u001b[0m\u001b[1;33m\u001b[0m\u001b[1;33m\u001b[0m\u001b[0m\n\u001b[1;32m----> 3\u001b[1;33m     \u001b[1;32mreturn\u001b[0m \u001b[0mtuple\u001b[0m\u001b[1;33m(\u001b[0m\u001b[0mgenera_gen\u001b[0m\u001b[1;33m(\u001b[0m\u001b[1;33m)\u001b[0m \u001b[1;32mfor\u001b[0m \u001b[0m_\u001b[0m \u001b[1;32min\u001b[0m \u001b[0mrange\u001b[0m\u001b[1;33m(\u001b[0m\u001b[0mNUMERO_DE_GENES\u001b[0m\u001b[1;33m)\u001b[0m\u001b[1;33m)\u001b[0m\u001b[1;33m\u001b[0m\u001b[1;33m\u001b[0m\u001b[0m\n\u001b[0m",
      "\u001b[1;31mNameError\u001b[0m: name 'NUMERO_DE_GENES' is not defined"
     ]
    }
   ],
   "source": [
    "# Ejemplo de uso. Guardamos el individuo generado en la variable ind_1\n",
    "ind_1 = genera_individuo()\n",
    "ind_1\n",
    "\n",
    "# Posible respuesta:\n",
    "# ((53, 10, 80, 200, 114),\n",
    "#  (271, 209, 6, 4, 135),\n",
    "#  ...\n",
    "#  (310, 220, 35, 19, 174),\n",
    "#  (264, 121, 37, 45, 200))"
   ]
  },
  {
   "cell_type": "markdown",
   "metadata": {},
   "source": [
    "Cada gen representa un rectángulo dentro del lienzo y un individuo es una sucesión de genes. Para poder interpretar ese individuo como una imagen, primero generamos una matriz (array) a partir de ese conjunto de genes. En este caso, las posiciones que no están ocupadas por ningún cuadrado las interpretamos como blanco (valor 255) y en el resto de la posiciones se sumará la intensidad de los rectángulos que las ocupan. La función *decodifica* crea una matriz con la intensidad de gris de cada píxel a partir de un individuo."
   ]
  },
  {
   "cell_type": "code",
   "execution_count": null,
   "metadata": {},
   "outputs": [],
   "source": [
    "def decodifica(ind):\n",
    "    array_sal = np.zeros(im2array_shape,dtype='uint32')\n",
    "    array_255 = np.full(im2array_shape,255,dtype='uint32')   \n",
    "    for (x,y,dx,dy,c) in ind:\n",
    "        array_sal[x:x+dx,y:y+dy]+= 255 - c\n",
    "    mini = np.minimum(array_sal,array_255)\n",
    "    inversa = 255 - mini\n",
    "    return inversa\n",
    "    #return inversa.astype('int32')"
   ]
  },
  {
   "cell_type": "markdown",
   "metadata": {},
   "source": [
    "Podemos ver la matriz generada a partir del individuo que hemos creado."
   ]
  },
  {
   "cell_type": "code",
   "execution_count": null,
   "metadata": {},
   "outputs": [],
   "source": [
    "matriz_1 = decodifica(ind_1)\n",
    "print(matriz_1.tolist())"
   ]
  },
  {
   "cell_type": "markdown",
   "metadata": {},
   "source": [
    "Podemos ver la imagen correspondiente a ese individuo transformando la matriz en una imagen"
   ]
  },
  {
   "cell_type": "code",
   "execution_count": null,
   "metadata": {},
   "outputs": [],
   "source": [
    "img_1 = Image.fromarray(matriz_1.astype('uint8'))\n",
    "plt.imshow(img_1,cmap='gray')"
   ]
  },
  {
   "cell_type": "markdown",
   "metadata": {},
   "source": [
    "Podemos ver una imagen junto a la otra"
   ]
  },
  {
   "cell_type": "code",
   "execution_count": null,
   "metadata": {},
   "outputs": [],
   "source": [
    "f, axarr = plt.subplots(1,2)\n",
    "axarr[0].imshow(img,cmap='gray')\n",
    "axarr[1].imshow(img_1,cmap='gray')"
   ]
  },
  {
   "cell_type": "markdown",
   "metadata": {},
   "source": [
    "Obviamente, este individuo es una mala aproximación de la imagen original. Vamos a implementar un algoritmo genético que permita encontrar una mejor aproximación.\n",
    "\n",
    "Para poder lanzar el algoritmo genético, en primer lugar definimos una función que nos permita crear una población inicial de individuos."
   ]
  },
  {
   "cell_type": "markdown",
   "metadata": {},
   "source": [
    "### Ejercicio 3\n",
    "Define una función poblacion_inicial() que devuelva una lista con tantos individuos como determine la variable *TAMANO_POB*"
   ]
  },
  {
   "cell_type": "code",
   "execution_count": null,
   "metadata": {},
   "outputs": [],
   "source": [
    "def poblacion_inicial():\n",
    "    return [genera_individuo() for _ in range(TAMANO_POB)]"
   ]
  },
  {
   "cell_type": "markdown",
   "metadata": {},
   "source": [
    "Para poder seleccionar los mejores inidividuos de la población, necesitamos definir una función fitness. En este caso la función fitness se define como la suma de las diferencias (en valor absoluto) pixel a pixel entre la matriz que representa el individuo y la matriz que representa la imagen original."
   ]
  },
  {
   "cell_type": "code",
   "execution_count": null,
   "metadata": {},
   "outputs": [],
   "source": [
    "def fitness(ind):\n",
    "    return np.sum(np.absolute(decodifica(ind) - IM2ARRAY))"
   ]
  },
  {
   "cell_type": "markdown",
   "metadata": {},
   "source": [
    "A continuación implementamos la selección por torneo. Para evitar repetir cálculos, cuando calculemos la función fitness de un individuo, la guardaremos en un diccionario y miraremos si ya ha sido calculada antes cuando necesitemos saber su valor. Las claves del diccionario serán los individuos y su valor, el valor de la función *fitness* que le corresponda."
   ]
  },
  {
   "cell_type": "markdown",
   "metadata": {},
   "source": [
    "### Ejercicio 4\n",
    "Define la función *selecciona_uno_por_torneo(poblacion,dic)* que tome como entrada una población de individuos y un diccionario de pares *individuo:fitness* y devuelva una tupla *(seleccionado,nuevo_dic)* donde seleccionado sea un individuo de la población seleccionado por torneo con *NUM_PARTICIPANTES* como el número de participantes en cada torneo y *nuevo_dic* sea el diccionario *dic* al que se le han añadido los pares *individuo:fitness* que se hayan calculado en la búsqueda de *seleccionado*."
   ]
  },
  {
   "cell_type": "code",
   "execution_count": null,
   "metadata": {},
   "outputs": [],
   "source": [
    "def selecciona_uno_por_torneo(población, dic):\n",
    "    min_fit = float('inf')\n",
    "    \n",
    "    for _ in range(NUM_PARTICIPANTES):\n",
    "        random_ind = random.choice(poblacion)\n",
    "        \n",
    "        if random_ind in dic:\n",
    "            fit_ind = dic[random_ind]\n",
    "        else:\n",
    "            fit_ind = fitness(random_ind)\n",
    "            dic[random_ind] = fit_ind\n",
    "            \n",
    "        if fit_ind < min_fit:\n",
    "            min_fit = fit_ind\n",
    "            min_ind = random_ind\n",
    "            \n",
    "    return mind_ind, dic"
   ]
  },
  {
   "cell_type": "code",
   "execution_count": null,
   "metadata": {},
   "outputs": [],
   "source": [
    "# Ejemplo de uso\n",
    "selecciona_uno_por_torneo(poblacion_inicial(),{})"
   ]
  },
  {
   "cell_type": "markdown",
   "metadata": {},
   "source": [
    "### Ejercicio 5\n",
    "Define la función *seleccion_por_torneo(poblacion,num_seleccionados,dic)* que además de la población y el diccionario del ejercicio anterior toem el número de individuos que queremos seleccionar. La salida debe ser una tupla *(seleccion,nuevo_dic)* donde *nuevo_dic* es el diccionario actualizado y sleccion una lista de individuos seleccionados. "
   ]
  },
  {
   "cell_type": "code",
   "execution_count": null,
   "metadata": {},
   "outputs": [],
   "source": [
    "def seleccion_por_torneo(poblacion, num_seleccionados, dic):\n",
    "    seleccionados = []\n",
    "    \n",
    "    for _ in range(num_seleccionados):\n",
    "        seleccionado, dic = selecciona_uno_por_torneo(poblacion, dic)\n",
    "        seleccionados.append(seleccionado)\n",
    "        \n",
    "    return seleccionados, dic"
   ]
  },
  {
   "cell_type": "code",
   "execution_count": null,
   "metadata": {},
   "outputs": [],
   "source": [
    "# Ejemplo de uso\n",
    "seleccion_por_torneo(poblacion_inicial(),4,{})"
   ]
  },
  {
   "cell_type": "markdown",
   "metadata": {},
   "source": [
    "A continuación definimos el cruce entre individuos"
   ]
  },
  {
   "cell_type": "markdown",
   "metadata": {},
   "source": [
    "### Ejercicio 6\n",
    "Define la función *cruza(i1,i2)* que tome dos individuos y devuelva una lista con los dos hijos obtenidos mediante la técnica de cruce en un punto."
   ]
  },
  {
   "cell_type": "code",
   "execution_count": null,
   "metadata": {},
   "outputs": [],
   "source": [
    "def cruza(i1, i2):\n",
    "    cruce = random.randrange(1, len(i1))\n",
    "    \n",
    "    return [i1[:cruce] + i2[cruce:], i2[:cruce] + i1[cruce:]]"
   ]
  },
  {
   "cell_type": "markdown",
   "metadata": {},
   "source": [
    "### Ejercicio 7\n",
    "Define la función *cruza_padres(padres)* que tome como entrada la lista *padres* con un número par de individuos y devuelva la lista de individuos obtenida aplicando la función *cruza(i1,i2)* donde *i1* es un individuo que ocupa una posición de índice par e *i2* es el siguiente individuo."
   ]
  },
  {
   "cell_type": "code",
   "execution_count": null,
   "metadata": {},
   "outputs": [],
   "source": [
    "def cruza_padres(padres):\n",
    "    return [hijo for i in range(0, len(padres), 2) for hijo in cruza(padres[i],padres[i+1])]"
   ]
  },
  {
   "cell_type": "markdown",
   "metadata": {},
   "source": [
    "En esta práctica consideraremos que la mutación de un individuo consiste en sustituir uno de sus genes por otro elegido aleatoriamente."
   ]
  },
  {
   "cell_type": "markdown",
   "metadata": {},
   "source": [
    "### Ejercicio 8\n",
    "Define la función *muta(ind)* que reciba como entrada un individuo *ind* y que, con una probabilidad *PROB_MUTACION* cambie uno de sus genes por otro gen aleatorio."
   ]
  },
  {
   "cell_type": "code",
   "execution_count": null,
   "metadata": {},
   "outputs": [],
   "source": [
    "def muta(ind):\n",
    "    if random.random() <= PROB_MUTACION:\n",
    "        i = random.randrange(NUMERO_DE_GENES)\n",
    "        ind = ind[:i] + (genera_gen(),) + ind[i+1:]\n",
    "        \n",
    "    return ind"
   ]
  },
  {
   "cell_type": "markdown",
   "metadata": {},
   "source": [
    "### Ejercicio 9\n",
    "Define una función *muta_individuos(poblacion)* que reciba como entrada a lista de individuos *poblacion* y aplique la función *muta* a cada uno de los individuos."
   ]
  },
  {
   "cell_type": "code",
   "execution_count": null,
   "metadata": {},
   "outputs": [],
   "source": [
    "def muta_individuos(poblacion):\n",
    "    return [muta(ind) for ind in poblacion]"
   ]
  },
  {
   "cell_type": "markdown",
   "metadata": {},
   "source": [
    "A continuación definimos el algoritmo que permite encontrar una nueva generación a partir de una dada."
   ]
  },
  {
   "cell_type": "markdown",
   "metadata": {},
   "source": [
    "### Ejercicio 10\n",
    "Define una función *nueva_generacion(poblacion,n_padres,n_directos,dic)* que reciba como entrada:\n",
    "* *poblacion* es una población de individuos\n",
    "* *n_padres* es un número que determina cuántos individuos seleccionamos por torneo para ser padres\n",
    "* *n_directos* es un número que determina cuántos individuos seleccionamos por torneo para pasar directamente a la siguiente generación.\n",
    "* dic es un diccionario de pares individuo:fitness\n",
    "\n",
    "La función debe seleccionar un conjunto de individuos para ser padres y otro para pasar directamente a la siguiente generación y a partir de los padres se debe genera un conjunto de hijos por cruce. La función debe devolver una tupla *(nuevo_dic,nueva_pob)* donde *nueva_pob* es una lista de individuos formada por los individuos que han pasado directamente a la siguiente generación más el resultado de aplicar la función de mutación a los hijos."
   ]
  },
  {
   "cell_type": "code",
   "execution_count": null,
   "metadata": {},
   "outputs": [],
   "source": [
    "def nueva_generacion(poblacion, n_padres, n_directos, dic):\n",
    "    padres, dic = seleccion_por_torneo(poblacion, n_padres, dic)\n",
    "    directos, dic = seleccion_por_torneo(poblacion, n_directos, dic)\n",
    "    \n",
    "    hijos_mut = muta_individuos(cruza_padres(padres))\n",
    "    \n",
    "    return dic, directos + hijos_mut"
   ]
  },
  {
   "cell_type": "markdown",
   "metadata": {},
   "source": [
    "Por último definimos el algoritmo genetico en el que se genera un a población inicial y se van creando nuevas generaciones usando las funciones anteriores. Además, cada *PASO_IMP* imprimimos la imagen correspondiente al mejor individuo. La función devuelve la lista de los valores *fitnes*  de estos individuos para poder luego representar gráficamente la evolución de la función a lo largo de las iteraciones."
   ]
  },
  {
   "cell_type": "code",
   "execution_count": null,
   "metadata": {},
   "outputs": [],
   "source": [
    "def algoritmo_genetico():\n",
    "    poblacion= poblacion_inicial()\n",
    "    dic = {}\n",
    "    n_padres = round(TAMANO_POB * PROP_CRUCES)\n",
    "    n_padres = (n_padres if n_padres%2==0 else n_padres-1)\n",
    "    n_directos = TAMANO_POB - n_padres\n",
    "    mejores = []\n",
    "    for counter in range(ITERACIONES):\n",
    "        if counter%PASO_IMP == 0:\n",
    "            print(counter)\n",
    "            nuevo_dic = {}\n",
    "            actual = 'inicial'\n",
    "            min = float('inf')\n",
    "            for ind in poblacion:\n",
    "                f_ind = fitness(ind)\n",
    "                nuevo_dic[ind] = f_ind\n",
    "                if f_ind < min:\n",
    "                    actual = ind\n",
    "                    min = f_ind\n",
    "            img_mejor = decodifica(actual).astype('uint8')\n",
    "            imageio.imwrite('ga_{:>08}.jpg'.format(counter//PASO_IMP),img_mejor)\n",
    "            mejores.append(min)\n",
    "            dic, poblacion = nueva_generacion(poblacion,n_padres,n_directos,dic)\n",
    "        else:\n",
    "            dic, poblacion = nueva_generacion(poblacion,n_padres,n_directos,dic)\n",
    "            print('.',end='')\n",
    "    return mejores"
   ]
  },
  {
   "cell_type": "code",
   "execution_count": null,
   "metadata": {},
   "outputs": [],
   "source": [
    "sal_ag = algoritmo_genetico()"
   ]
  },
  {
   "cell_type": "code",
   "execution_count": null,
   "metadata": {},
   "outputs": [],
   "source": [
    "plt.plot(sal_ag[1:])\n",
    "plt.show()"
   ]
  },
  {
   "cell_type": "code",
   "execution_count": null,
   "metadata": {},
   "outputs": [],
   "source": []
  }
 ],
 "metadata": {
  "kernelspec": {
   "display_name": "Python 3",
   "language": "python",
   "name": "python3"
  },
  "language_info": {
   "codemirror_mode": {
    "name": "ipython",
    "version": 3
   },
   "file_extension": ".py",
   "mimetype": "text/x-python",
   "name": "python",
   "nbconvert_exporter": "python",
   "pygments_lexer": "ipython3",
   "version": "3.8.5"
  }
 },
 "nbformat": 4,
 "nbformat_minor": 2
}
