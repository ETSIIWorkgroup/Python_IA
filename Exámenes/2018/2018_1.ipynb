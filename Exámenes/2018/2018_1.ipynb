{
 "cells": [
  {
   "cell_type": "markdown",
   "metadata": {},
   "source": [
    "## Inteligencia Artificial\n",
    "### Evaluación alternativa 1 - Exámen Práctico\n",
    "### 22 de Noviembre, 2018"
   ]
  },
  {
   "cell_type": "raw",
   "metadata": {},
   "source": [
    "Nombre:\n",
    "Apellidos:"
   ]
  },
  {
   "cell_type": "markdown",
   "metadata": {},
   "source": [
    "En los siguientes ejercicios vamos a implementar algunas funciones relacionadas con el algoritmo de cobertura. Para ello adoptaremos las siguientes notaciones. Un conjunto de entrenamiento es una lista de listas, donde la primera lista es la lista de atributos y las siguientes representan las instancias del conjunto. Para simplificar la notación siempre consideraremos que la columna de clasificación es la última de la tabla. Por ejemplo:"
   ]
  },
  {
   "cell_type": "code",
   "execution_count": null,
   "metadata": {},
   "outputs": [],
   "source": [
    "CE1 = [[\"Edad\",         \"Diagnóstico\",  \"Astigmatismo\", \"Lágrima\",  \"Lente\"   ], \n",
    "       [\"Joven\",        \"Miope\",        \"-\",            \"Reducida\", \"Ninguna\" ],\n",
    "       [\"Joven\",        \"Miope\",        \"-\",            \"Normal\",   \"Blanda\"  ],\n",
    "       [\"Joven\",        \"Miope\",        \"+\",            \"Reducida\", \"Ninguna\" ],\n",
    "       [\"Joven\",        \"Miope\",        \"+\",            \"Normal\",   \"Rígida\"  ],\n",
    "       [\"Joven\",        \"Hipermétrope\", \"-\",            \"Reducida\", \"Ninguna\" ],\n",
    "       [\"Joven\",        \"Hipermétrope\", \"-\",            \"Normal\",   \"Blanda\"  ],\n",
    "       [\"Joven\",        \"Hipermétrope\", \"+\",            \"Reducida\", \"Ninguna\" ],\n",
    "       [\"Joven\",        \"Hipermétrope\", \"+\",            \"Normal\",   \"Rígida\"  ],\n",
    "       [\"PrePresbicia\", \"Miope\",        \"-\",            \"Reducida\", \"Ninguna\" ],\n",
    "       [\"PrePresbicia\", \"Miope\",        \"-\",            \"Normal\",   \"Blanda\"  ],\n",
    "       [\"PrePresbicia\", \"Miope\",        \"+\",            \"Reducida\", \"Ninguna\" ], \n",
    "       [\"PrePresbicia\", \"Miope\",        \"+\",            \"Normal\",   \"Rígida\"  ],\n",
    "       [\"PrePresbicia\", \"Hipermétrope\", \"-\",            \"Reducida\", \"Ninguna\" ],\n",
    "       [\"PrePresbicia\", \"Hipermétrope\", \"-\",            \"Normal\",   \"Blanda\"  ],\n",
    "       [\"PrePresbicia\", \"Hipermétrope\", \"+\",            \"Reducida\", \"Ninguna\" ],\n",
    "       [\"PrePresbicia\", \"Hipermétrope\", \"+\",            \"Normal\",   \"Ninguna\" ],\n",
    "       [\"Presbicia\",    \"Miope\",        \"-\",            \"Reducida\", \"Ninguna\" ],\n",
    "       [\"Presbicia\",    \"Miope\",        \"-\",            \"Normal\",   \"Ninguna\" ],\n",
    "       [\"Presbicia\",    \"Miope\",        \"+\",            \"Reducida\", \"Ninguna\" ],\n",
    "       [\"Presbicia\",    \"Miope\",        \"+\",            \"Normal\",   \"Rígida\"  ],\n",
    "       [\"Presbicia\",    \"Hipermétrope\", \"-\",            \"Reducida\", \"Ninguna\" ],\n",
    "       [\"Presbicia\",    \"Hipermétrope\", \"-\",            \"Normal\",   \"Blanda\"  ],\n",
    "       [\"Presbicia\",    \"Hipermétrope\", \"+\",            \"Reducida\", \"Ninguna\" ],\n",
    "       [\"Presbicia\",    \"Hipermétrope\", \"+\",            \"Normal\",   \"Ninguna\" ]]\n",
    "\n",
    "CE2 = [[\"Cielo\",   \"Temperatura\", \"Humedad\", \"Viento\", \"JugarTenis\"],\n",
    "       [\"Soleado\", \"Alta\",        \"Alta\",    \"Débil\",  \"-\" ],\n",
    "       [\"Soleado\", \"Alta\",        \"Alta\",    \"Fuerte\", \"-\" ],\n",
    "       [\"Nublado\", \"Alta\",        \"Alta\",    \"Débil\",  \"+\" ],\n",
    "       [\"Lluvia\",  \"Suave\",       \"Alta\",    \"Débil\",  \"+\" ],\n",
    "       [\"Lluvia\",  \"Baja\",        \"Normal\",  \"Débil\",  \"+\" ],\n",
    "       [\"Lluvia\",  \"Baja\",        \"Normal\",  \"Fuerte\", \"-\" ],\n",
    "       [\"Nublado\", \"Baja\",        \"Normal\",  \"Fuerte\", \"+\" ],\n",
    "       [\"Soleado\", \"Suave\",       \"Alta\",    \"Débil\",  \"-\" ],\n",
    "       [\"Soleado\", \"Baja\",        \"Normal\",  \"Débil\",  \"+\" ],\n",
    "       [\"Lluvia\",  \"Suave\",       \"Normal\",  \"Débil\",  \"+\" ],\n",
    "       [\"Soleado\", \"Suave\",       \"Normal\",  \"Fuerte\", \"+\" ],\n",
    "       [\"Nublado\", \"Suave\",       \"Alta\",    \"Fuerte\", \"+\" ],\n",
    "       [\"Nublado\", \"Alta\",        \"Normal\",  \"Débil\",  \"+\" ],\n",
    "       [\"Lluvia\",  \"Suave\",       \"Alta\",    \"Fuerte\", \"-\" ]] "
   ]
  },
  {
   "cell_type": "markdown",
   "metadata": {},
   "source": [
    "Una regla es una lista de pares atributo-valor (representado como una lista de dos elementos, donde el último par es la conclusión y todos los demás pares representan la premisa. Por ejemplo:"
   ]
  },
  {
   "cell_type": "code",
   "execution_count": null,
   "metadata": {},
   "outputs": [],
   "source": [
    "# Si Astigmatismo = + y Lágrima = Normal entonces Lente  = Rígida\n",
    "R1 = [[\"Astigmatismo\",\"+\"], [\"Lágrima\",\"Normal\"],[\"Lente\",\"Rígida\"]]\n",
    "\n",
    "# Si (vacío) entonces Lente = Rígida\n",
    "R2 = [[\"Lente\",\"Rígida\"]]\n",
    "\n",
    "# Si (vacío) entonces JugarTenis = +\n",
    "R3 = [[\"JugarTenis\",\"+\"]]\n",
    "\n",
    "# Si Cielo=Soleado y Humedad=Alta entonces JugarTenis=+\n",
    "R4 = [[\"Cielo\",\"Soleado\"],[\"Humedad\",\"Alta\"],[\"JugarTenis\",\"+\"]]\n",
    "\n",
    "# Si Cielo = Lluvia y Temperatura= Alta y Humedad=Normal entonces JugarTenis=+\n",
    "R5 = [[\"Cielo\",\"Lluvia\"],[\"Temperatura\",\"Alta\"],[\"Humedad\",\"Normal\"],[\"JugarTenis\",\"+\"]]"
   ]
  },
  {
   "cell_type": "markdown",
   "metadata": {},
   "source": [
    "### Ejercicio 1 \\[0.5 ptos\\]\n",
    "Define la función fr(R,C) que devuelva la frecuencia relativa de la regla R sobre el conjunto de entrenamiento C. Si la regla no cubre ningún ejemplo, el valor de la frecuencia relativa debe ser cero. "
   ]
  },
  {
   "cell_type": "code",
   "execution_count": null,
   "metadata": {},
   "outputs": [],
   "source": [
    "# Escribe aquí la respuesta\n"
   ]
  },
  {
   "cell_type": "code",
   "execution_count": null,
   "metadata": {},
   "outputs": [],
   "source": [
    "fr(R1,CE1)\n",
    "# Salida esperada: 0.6666666666666666"
   ]
  },
  {
   "cell_type": "code",
   "execution_count": null,
   "metadata": {},
   "outputs": [],
   "source": [
    "fr(R3,CE2)\n",
    "# Salida esperada:0.6"
   ]
  },
  {
   "cell_type": "code",
   "execution_count": null,
   "metadata": {},
   "outputs": [],
   "source": [
    "fr(R5,CE2)\n",
    "# Salida esperada: 0"
   ]
  },
  {
   "cell_type": "markdown",
   "metadata": {},
   "source": [
    "### Ejercicio 2 \\[1 pto\\]\n",
    "Define la función alternativas(R,C) que tome como entrada una regla R y un conjunto de entrenamiento y devuelva la lista de todas las posibles reglas que se pueden generar a partir de R añadiendo una nueva condición según el algoritmo de aprendizaje de reglas por cobertura"
   ]
  },
  {
   "cell_type": "code",
   "execution_count": null,
   "metadata": {},
   "outputs": [],
   "source": [
    "# Escribe aquí la respuesta\n"
   ]
  },
  {
   "cell_type": "code",
   "execution_count": null,
   "metadata": {},
   "outputs": [],
   "source": [
    "alternativas(R1,CE1)\n",
    "# Salida esperada:\n",
    "# [[['Astigmatismo', '+'], ['Lágrima', 'Normal'], ['Edad', 'PrePresbicia'],        ['Lente', 'Rígida']],\n",
    "#  [['Astigmatismo', '+'], ['Lágrima', 'Normal'], ['Edad', 'Joven'],               ['Lente', 'Rígida']],\n",
    "#  [['Astigmatismo', '+'], ['Lágrima', 'Normal'], ['Edad', 'Presbicia'],           ['Lente', 'Rígida']],\n",
    "#  [['Astigmatismo', '+'], ['Lágrima', 'Normal'], ['Diagnóstico', 'Hipermétrope'], ['Lente', 'Rígida']],\n",
    "#  [['Astigmatismo', '+'], ['Lágrima', 'Normal'], ['Diagnóstico', 'Miope'],        ['Lente', 'Rígida']]]"
   ]
  },
  {
   "cell_type": "code",
   "execution_count": null,
   "metadata": {},
   "outputs": [],
   "source": [
    "alternativas(R4,CE2)\n",
    "# Salida esperada:\n",
    "# [[['Cielo', 'Soleado'],['Humedad', 'Alta'],['Temperatura', 'Suave'],['JugarTenis', '+']],\n",
    "#  [['Cielo', 'Soleado'],['Humedad', 'Alta'],['Temperatura', 'Baja'], ['JugarTenis', '+']],\n",
    "#  [['Cielo', 'Soleado'],['Humedad', 'Alta'],['Temperatura', 'Alta'], ['JugarTenis', '+']],\n",
    "#  [['Cielo', 'Soleado'],['Humedad', 'Alta'],['Viento', 'Débil'],     ['JugarTenis', '+']],\n",
    "#  [['Cielo', 'Soleado'],['Humedad', 'Alta'],['Viento', 'Fuerte'],    ['JugarTenis', '+']]]"
   ]
  },
  {
   "cell_type": "markdown",
   "metadata": {},
   "source": [
    "### Ejercicio 3\n",
    "Define la función completa_regla(R,C) que tome una regla R y un conjunto de entrenamiento C y devuelva la lista de pares\n",
    "\\[(R_0, Fr_0),...,(R_n,Fr_n)\\] donde R0 es la regla R que se proporciona  y Fr_0 es su frecuencia relativa. Cada regla R_{i+1} se ha generado a partir de R_i añadiendo la condición que permitía obtener la mayor frecuencia relativa entre todas las posibles y Fr_{i+1} es la frecuencia relativa de R_{i+1}. R_n es un regla que tiene frecuencia relativa Fr_n=1.\n",
    "\n",
    "En caso de haber varias posibilidades correctas, devolver sólo una de ellas."
   ]
  },
  {
   "cell_type": "code",
   "execution_count": null,
   "metadata": {},
   "outputs": [],
   "source": [
    "# Escribe aquí la respuesta\n"
   ]
  },
  {
   "cell_type": "code",
   "execution_count": null,
   "metadata": {},
   "outputs": [],
   "source": [
    "completa_reglas(R2,CE1)\n",
    "# Salida esperada\n",
    "# [([['Lente', 'Rígida']], 0.16),\n",
    "# [[['Astigmatismo', '+'], ['Lente', 'Rígida']], 0.3333333333333333],\n",
    "# [[['Astigmatismo', '+'], ['Lágrima', 'Normal'], ['Lente', 'Rígida']], 0.6666666666666666],\n",
    "# [[['Astigmatismo', '+'], ['Lágrima', 'Normal'], ['Edad', 'Joven'], ['Lente', 'Rígida']], 1.0]]"
   ]
  },
  {
   "cell_type": "code",
   "execution_count": null,
   "metadata": {},
   "outputs": [],
   "source": [
    "completa_reglas(R3,CE2)\n",
    "# Salida esperada:\n",
    "# [([['JugarTenis', '+']], 0.6),\n",
    "#  [[['Cielo', 'Nublado'], ['JugarTenis', '+']], 1.0]]"
   ]
  },
  {
   "cell_type": "markdown",
   "metadata": {},
   "source": [
    "### Ejercicio 4 \\[1 pto.\\]\n",
    "Define la función reglas(at,val,C) que dado un atributo at, un valor val y un conjunto de entrenamiento C devuelva el conjunto de todas las reglas obtenido mediante el algoritmo de cobertura cuando ese par tributo valor es la conclusión de las reglas junto con los índides de los ejemplos cubiertos, esto es, la salida debe ser una lista de pares \\[(R_1,L_1), ... (R_n,L_n)\\] donde L_i es la lista de índices de ejemplos de C cubiertos correctamente por R_i"
   ]
  },
  {
   "cell_type": "code",
   "execution_count": null,
   "metadata": {},
   "outputs": [],
   "source": [
    "# Escribe aquí la respuesta\n"
   ]
  },
  {
   "cell_type": "code",
   "execution_count": null,
   "metadata": {},
   "outputs": [],
   "source": [
    "reglas(\"Lente\",\"Rígida\",CE1)\n",
    "# Salida esperada:\n",
    "# [[[['Astigmatismo', '+'],['Lágrima', 'Normal'],['Edad', 'Joven'],['Lente', 'Rígida']],         [4, 8]],\n",
    "# [[['Astigmatismo', '+'], ['Lágrima', 'Normal'],['Diagnóstico', 'Miope'], ['Lente', 'Rígida']], [12, 20]]]"
   ]
  },
  {
   "cell_type": "code",
   "execution_count": null,
   "metadata": {},
   "outputs": [],
   "source": [
    "reglas(\"Lente\",\"Ninguna\",CE1)\n",
    "# Salida esperada:\n",
    "# [[[['Lágrima', 'Reducida'], ['Lente', 'Ninguna']],                 [1, 3, 5, 7, 9, 11, 13, 15, 17, 19, 21, 23]],\n",
    "# [[['Edad', 'Presbicia'],['Diagnóstico', 'Hipermétrope'], ['Astigmatismo', '+'], ['Lente', 'Ninguna']],    [24]],\n",
    "# [[['Edad', 'Presbicia'],['Diagnóstico', 'Miope'], ['Astigmatismo', '-'], ['Lente', 'Ninguna']],           [18]],\n",
    "# [[['Edad', 'PrePresbicia'], ['Diagnóstico', 'Hipermétrope'], ['Astigmatismo', '+'],['Lente', 'Ninguna']], [16]]]"
   ]
  },
  {
   "cell_type": "code",
   "execution_count": null,
   "metadata": {},
   "outputs": [],
   "source": [
    "reglas(\"Lente\",\"Blanda\",CE1)\n",
    "# Salida esperada:\n",
    "# [[[['Astigmatismo', '-'],['Lágrima', 'Normal'],['Edad', 'PrePresbicia'],['Lente', 'Blanda']],  [10, 14]],\n",
    "# [[['Astigmatismo', '-'], ['Lágrima', 'Normal'],['Edad', 'Joven'],['Lente', 'Blanda']],         [2, 6]],\n",
    "# [[['Edad', 'Presbicia'], ['Diagnóstico', 'Hipermétrope'],['Astigmatismo', '-'],['Lágrima', 'Normal'],\n",
    "# ['Lente', 'Blanda']],[22]]]"
   ]
  },
  {
   "cell_type": "code",
   "execution_count": null,
   "metadata": {},
   "outputs": [],
   "source": [
    "reglas(\"JugarTenis\",\"+\",CE2)\n",
    "# Salida esperada:\n",
    "# [[[['Cielo', 'Nublado'], ['JugarTenis', '+']], [3, 7, 12, 13]],\n",
    "# [[['Humedad', 'Normal'], ['Cielo', 'Soleado'], ['JugarTenis', '+']], [9, 11]],\n",
    "# [[['Humedad', 'Normal'], ['Temperatura', 'Suave'], ['JugarTenis', '+']], [10]],\n",
    "# [[['Cielo', 'Lluvia'], ['Viento', 'Débil'], ['JugarTenis', '+']], [4, 5]]]"
   ]
  },
  {
   "cell_type": "code",
   "execution_count": null,
   "metadata": {},
   "outputs": [],
   "source": [
    "reglas(\"JugarTenis\",\"-\",CE2)\n",
    "# Salida esperada\n",
    "# [[[['Cielo', 'Soleado'], ['Temperatura', 'Alta'], ['JugarTenis', '-']], [1, 2]],\n",
    "# [[['Cielo', 'Lluvia'], ['Viento', 'Fuerte'], ['JugarTenis', '-']], [6, 14]],\n",
    "# [[['Cielo', 'Soleado'], ['Humedad', 'Alta'], ['JugarTenis', '-']], [8]]]"
   ]
  },
  {
   "cell_type": "code",
   "execution_count": null,
   "metadata": {},
   "outputs": [],
   "source": []
  }
 ],
 "metadata": {
  "kernelspec": {
   "display_name": "Python 3",
   "language": "python",
   "name": "python3"
  },
  "language_info": {
   "codemirror_mode": {
    "name": "ipython",
    "version": 3
   },
   "file_extension": ".py",
   "mimetype": "text/x-python",
   "name": "python",
   "nbconvert_exporter": "python",
   "pygments_lexer": "ipython3",
   "version": "3.7.3"
  }
 },
 "nbformat": 4,
 "nbformat_minor": 2
}
